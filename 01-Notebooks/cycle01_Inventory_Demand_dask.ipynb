{
 "cells": [
  {
   "cell_type": "markdown",
   "metadata": {},
   "source": [
    "# 0.0 IMPORTS"
   ]
  },
  {
   "cell_type": "markdown",
   "metadata": {},
   "source": [
    "## 01. Libraries"
   ]
  },
  {
   "cell_type": "code",
   "execution_count": 21,
   "metadata": {},
   "outputs": [],
   "source": [
    "import datetime\n",
    "import warnings\n",
    "import inflection\n",
    "import dask.dataframe as dd\n",
    "import numpy as np\n",
    "import scipy.stats  as ss\n",
    "\n",
    "from IPython.display         import Image\n",
    "from IPython.core.display    import HTML\n",
    "\n",
    "import matplotlib.pyplot as plt\n",
    "import seaborn as sns"
   ]
  },
  {
   "cell_type": "markdown",
   "metadata": {},
   "source": [
    "# 0.2 Notebook Config"
   ]
  },
  {
   "cell_type": "code",
   "execution_count": 22,
   "metadata": {},
   "outputs": [],
   "source": [
    "def jupyter_settings():\n",
    "    %matplotlib inline\n",
    "    \n",
    "    plt.style.use('bmh')\n",
    "    plt.rcParams['figure.figsize'] = [25, 12]\n",
    "    plt.rcParams['font.size'] = 24\n",
    "    \n",
    "    display( HTML('<style>.container { width:100% !important; }</style>'))\n",
    "    \n",
    "    warnings.filterwarnings(\"ignore\")\n",
    "    \n",
    "    sns.set()"
   ]
  },
  {
   "cell_type": "code",
   "execution_count": 23,
   "metadata": {},
   "outputs": [
    {
     "data": {
      "text/html": [
       "<style>.container { width:100% !important; }</style>"
      ],
      "text/plain": [
       "<IPython.core.display.HTML object>"
      ]
     },
     "metadata": {},
     "output_type": "display_data"
    }
   ],
   "source": [
    "seed = 42\n",
    "np.random.seed(seed)\n",
    "\n",
    "jupyter_settings()"
   ]
  },
  {
   "cell_type": "markdown",
   "metadata": {},
   "source": [
    "## 0.3 Helper Functions"
   ]
  },
  {
   "cell_type": "markdown",
   "metadata": {},
   "source": [
    "## 0.4 Load Data"
   ]
  },
  {
   "cell_type": "markdown",
   "metadata": {},
   "source": [
    "### 0.4.1 Load Raw Data"
   ]
  },
  {
   "cell_type": "code",
   "execution_count": 24,
   "metadata": {},
   "outputs": [
    {
     "name": "stdout",
     "output_type": "stream",
     "text": [
      "Wall time: 0 ns\n"
     ]
    }
   ],
   "source": [
    "%time\n",
    "data_train_raw = dd.read_csv('../00-Data/csv_data/train.csv')"
   ]
  },
  {
   "cell_type": "code",
   "execution_count": 25,
   "metadata": {},
   "outputs": [
    {
     "name": "stdout",
     "output_type": "stream",
     "text": [
      "Wall time: 0 ns\n"
     ]
    },
    {
     "data": {
      "text/plain": [
       "Semana               0\n",
       "Agencia_ID           0\n",
       "Canal_ID             0\n",
       "Ruta_SAK             0\n",
       "Cliente_ID           0\n",
       "Producto_ID          0\n",
       "Venta_uni_hoy        0\n",
       "Venta_hoy            0\n",
       "Dev_uni_proxima      0\n",
       "Dev_proxima          0\n",
       "Demanda_uni_equil    0\n",
       "dtype: int64"
      ]
     },
     "execution_count": 25,
     "metadata": {},
     "output_type": "execute_result"
    }
   ],
   "source": [
    "%time\n",
    "data_train_raw.isnull().sum().compute()"
   ]
  },
  {
   "cell_type": "code",
   "execution_count": 29,
   "metadata": {},
   "outputs": [
    {
     "data": {
      "text/html": [
       "<div>\n",
       "<style scoped>\n",
       "    .dataframe tbody tr th:only-of-type {\n",
       "        vertical-align: middle;\n",
       "    }\n",
       "\n",
       "    .dataframe tbody tr th {\n",
       "        vertical-align: top;\n",
       "    }\n",
       "\n",
       "    .dataframe thead th {\n",
       "        text-align: right;\n",
       "    }\n",
       "</style>\n",
       "<table border=\"1\" class=\"dataframe\">\n",
       "  <thead>\n",
       "    <tr style=\"text-align: right;\">\n",
       "      <th></th>\n",
       "      <th>Semana</th>\n",
       "      <th>Agencia_ID</th>\n",
       "      <th>Canal_ID</th>\n",
       "      <th>Ruta_SAK</th>\n",
       "      <th>Cliente_ID</th>\n",
       "      <th>Producto_ID</th>\n",
       "      <th>Venta_uni_hoy</th>\n",
       "      <th>Venta_hoy</th>\n",
       "      <th>Dev_uni_proxima</th>\n",
       "      <th>Dev_proxima</th>\n",
       "      <th>Demanda_uni_equil</th>\n",
       "    </tr>\n",
       "  </thead>\n",
       "  <tbody>\n",
       "    <tr>\n",
       "      <th>0</th>\n",
       "      <td>3</td>\n",
       "      <td>1110</td>\n",
       "      <td>7</td>\n",
       "      <td>3301</td>\n",
       "      <td>15766</td>\n",
       "      <td>1212</td>\n",
       "      <td>3</td>\n",
       "      <td>25.14</td>\n",
       "      <td>0</td>\n",
       "      <td>0.0</td>\n",
       "      <td>3</td>\n",
       "    </tr>\n",
       "    <tr>\n",
       "      <th>1</th>\n",
       "      <td>3</td>\n",
       "      <td>1110</td>\n",
       "      <td>7</td>\n",
       "      <td>3301</td>\n",
       "      <td>15766</td>\n",
       "      <td>1216</td>\n",
       "      <td>4</td>\n",
       "      <td>33.52</td>\n",
       "      <td>0</td>\n",
       "      <td>0.0</td>\n",
       "      <td>4</td>\n",
       "    </tr>\n",
       "    <tr>\n",
       "      <th>2</th>\n",
       "      <td>3</td>\n",
       "      <td>1110</td>\n",
       "      <td>7</td>\n",
       "      <td>3301</td>\n",
       "      <td>15766</td>\n",
       "      <td>1238</td>\n",
       "      <td>4</td>\n",
       "      <td>39.32</td>\n",
       "      <td>0</td>\n",
       "      <td>0.0</td>\n",
       "      <td>4</td>\n",
       "    </tr>\n",
       "    <tr>\n",
       "      <th>3</th>\n",
       "      <td>3</td>\n",
       "      <td>1110</td>\n",
       "      <td>7</td>\n",
       "      <td>3301</td>\n",
       "      <td>15766</td>\n",
       "      <td>1240</td>\n",
       "      <td>4</td>\n",
       "      <td>33.52</td>\n",
       "      <td>0</td>\n",
       "      <td>0.0</td>\n",
       "      <td>4</td>\n",
       "    </tr>\n",
       "    <tr>\n",
       "      <th>4</th>\n",
       "      <td>3</td>\n",
       "      <td>1110</td>\n",
       "      <td>7</td>\n",
       "      <td>3301</td>\n",
       "      <td>15766</td>\n",
       "      <td>1242</td>\n",
       "      <td>3</td>\n",
       "      <td>22.92</td>\n",
       "      <td>0</td>\n",
       "      <td>0.0</td>\n",
       "      <td>3</td>\n",
       "    </tr>\n",
       "  </tbody>\n",
       "</table>\n",
       "</div>"
      ],
      "text/plain": [
       "   Semana  Agencia_ID  Canal_ID  Ruta_SAK  Cliente_ID  Producto_ID  \\\n",
       "0       3        1110         7      3301       15766         1212   \n",
       "1       3        1110         7      3301       15766         1216   \n",
       "2       3        1110         7      3301       15766         1238   \n",
       "3       3        1110         7      3301       15766         1240   \n",
       "4       3        1110         7      3301       15766         1242   \n",
       "\n",
       "   Venta_uni_hoy  Venta_hoy  Dev_uni_proxima  Dev_proxima  Demanda_uni_equil  \n",
       "0              3      25.14                0          0.0                  3  \n",
       "1              4      33.52                0          0.0                  4  \n",
       "2              4      39.32                0          0.0                  4  \n",
       "3              4      33.52                0          0.0                  4  \n",
       "4              3      22.92                0          0.0                  3  "
      ]
     },
     "execution_count": 29,
     "metadata": {},
     "output_type": "execute_result"
    }
   ],
   "source": [
    "data_train_raw.head()"
   ]
  },
  {
   "cell_type": "code",
   "execution_count": 30,
   "metadata": {},
   "outputs": [
    {
     "data": {
      "text/html": [
       "<div>\n",
       "<style scoped>\n",
       "    .dataframe tbody tr th:only-of-type {\n",
       "        vertical-align: middle;\n",
       "    }\n",
       "\n",
       "    .dataframe tbody tr th {\n",
       "        vertical-align: top;\n",
       "    }\n",
       "\n",
       "    .dataframe thead th {\n",
       "        text-align: right;\n",
       "    }\n",
       "</style>\n",
       "<table border=\"1\" class=\"dataframe\">\n",
       "  <thead>\n",
       "    <tr style=\"text-align: right;\">\n",
       "      <th></th>\n",
       "      <th>count</th>\n",
       "      <th>mean</th>\n",
       "      <th>std</th>\n",
       "      <th>min</th>\n",
       "      <th>25%</th>\n",
       "      <th>50%</th>\n",
       "      <th>75%</th>\n",
       "      <th>max</th>\n",
       "    </tr>\n",
       "  </thead>\n",
       "  <tbody>\n",
       "    <tr>\n",
       "      <th>Semana</th>\n",
       "      <td>74180464.0</td>\n",
       "      <td>5.950021e+00</td>\n",
       "      <td>2.013175e+00</td>\n",
       "      <td>3.0</td>\n",
       "      <td>4.00</td>\n",
       "      <td>6.0</td>\n",
       "      <td>8.00</td>\n",
       "      <td>9.000000e+00</td>\n",
       "    </tr>\n",
       "    <tr>\n",
       "      <th>Agencia_ID</th>\n",
       "      <td>74180464.0</td>\n",
       "      <td>2.536509e+03</td>\n",
       "      <td>4.075124e+03</td>\n",
       "      <td>1110.0</td>\n",
       "      <td>1334.00</td>\n",
       "      <td>1622.0</td>\n",
       "      <td>2054.00</td>\n",
       "      <td>2.575900e+04</td>\n",
       "    </tr>\n",
       "    <tr>\n",
       "      <th>Canal_ID</th>\n",
       "      <td>74180464.0</td>\n",
       "      <td>1.383181e+00</td>\n",
       "      <td>1.463266e+00</td>\n",
       "      <td>1.0</td>\n",
       "      <td>1.00</td>\n",
       "      <td>1.0</td>\n",
       "      <td>1.00</td>\n",
       "      <td>1.100000e+01</td>\n",
       "    </tr>\n",
       "    <tr>\n",
       "      <th>Ruta_SAK</th>\n",
       "      <td>74180464.0</td>\n",
       "      <td>2.114855e+03</td>\n",
       "      <td>1.487744e+03</td>\n",
       "      <td>1.0</td>\n",
       "      <td>1213.00</td>\n",
       "      <td>1612.0</td>\n",
       "      <td>2903.00</td>\n",
       "      <td>9.991000e+03</td>\n",
       "    </tr>\n",
       "    <tr>\n",
       "      <th>Cliente_ID</th>\n",
       "      <td>74180464.0</td>\n",
       "      <td>1.802119e+06</td>\n",
       "      <td>2.349577e+06</td>\n",
       "      <td>26.0</td>\n",
       "      <td>482299.00</td>\n",
       "      <td>1464178.0</td>\n",
       "      <td>2471564.00</td>\n",
       "      <td>2.015152e+09</td>\n",
       "    </tr>\n",
       "    <tr>\n",
       "      <th>Producto_ID</th>\n",
       "      <td>74180464.0</td>\n",
       "      <td>2.084081e+04</td>\n",
       "      <td>1.866392e+04</td>\n",
       "      <td>41.0</td>\n",
       "      <td>2233.00</td>\n",
       "      <td>35113.0</td>\n",
       "      <td>43198.00</td>\n",
       "      <td>4.999700e+04</td>\n",
       "    </tr>\n",
       "    <tr>\n",
       "      <th>Venta_uni_hoy</th>\n",
       "      <td>74180464.0</td>\n",
       "      <td>7.310163e+00</td>\n",
       "      <td>2.196734e+01</td>\n",
       "      <td>0.0</td>\n",
       "      <td>2.00</td>\n",
       "      <td>4.0</td>\n",
       "      <td>8.00</td>\n",
       "      <td>7.200000e+03</td>\n",
       "    </tr>\n",
       "    <tr>\n",
       "      <th>Venta_hoy</th>\n",
       "      <td>74180464.0</td>\n",
       "      <td>6.854452e+01</td>\n",
       "      <td>3.389795e+02</td>\n",
       "      <td>0.0</td>\n",
       "      <td>18.86</td>\n",
       "      <td>34.5</td>\n",
       "      <td>64.17</td>\n",
       "      <td>6.473600e+05</td>\n",
       "    </tr>\n",
       "    <tr>\n",
       "      <th>Dev_uni_proxima</th>\n",
       "      <td>74180464.0</td>\n",
       "      <td>1.302577e-01</td>\n",
       "      <td>2.932320e+01</td>\n",
       "      <td>0.0</td>\n",
       "      <td>0.00</td>\n",
       "      <td>0.0</td>\n",
       "      <td>0.00</td>\n",
       "      <td>2.500000e+05</td>\n",
       "    </tr>\n",
       "    <tr>\n",
       "      <th>Dev_proxima</th>\n",
       "      <td>74180464.0</td>\n",
       "      <td>1.243248e+00</td>\n",
       "      <td>3.921552e+01</td>\n",
       "      <td>0.0</td>\n",
       "      <td>0.00</td>\n",
       "      <td>0.0</td>\n",
       "      <td>0.00</td>\n",
       "      <td>1.307600e+05</td>\n",
       "    </tr>\n",
       "    <tr>\n",
       "      <th>Demanda_uni_equil</th>\n",
       "      <td>74180464.0</td>\n",
       "      <td>7.224564e+00</td>\n",
       "      <td>2.177119e+01</td>\n",
       "      <td>0.0</td>\n",
       "      <td>2.00</td>\n",
       "      <td>4.0</td>\n",
       "      <td>8.00</td>\n",
       "      <td>5.000000e+03</td>\n",
       "    </tr>\n",
       "  </tbody>\n",
       "</table>\n",
       "</div>"
      ],
      "text/plain": [
       "                        count          mean           std     min        25%  \\\n",
       "Semana             74180464.0  5.950021e+00  2.013175e+00     3.0       4.00   \n",
       "Agencia_ID         74180464.0  2.536509e+03  4.075124e+03  1110.0    1334.00   \n",
       "Canal_ID           74180464.0  1.383181e+00  1.463266e+00     1.0       1.00   \n",
       "Ruta_SAK           74180464.0  2.114855e+03  1.487744e+03     1.0    1213.00   \n",
       "Cliente_ID         74180464.0  1.802119e+06  2.349577e+06    26.0  482299.00   \n",
       "Producto_ID        74180464.0  2.084081e+04  1.866392e+04    41.0    2233.00   \n",
       "Venta_uni_hoy      74180464.0  7.310163e+00  2.196734e+01     0.0       2.00   \n",
       "Venta_hoy          74180464.0  6.854452e+01  3.389795e+02     0.0      18.86   \n",
       "Dev_uni_proxima    74180464.0  1.302577e-01  2.932320e+01     0.0       0.00   \n",
       "Dev_proxima        74180464.0  1.243248e+00  3.921552e+01     0.0       0.00   \n",
       "Demanda_uni_equil  74180464.0  7.224564e+00  2.177119e+01     0.0       2.00   \n",
       "\n",
       "                         50%         75%           max  \n",
       "Semana                   6.0        8.00  9.000000e+00  \n",
       "Agencia_ID            1622.0     2054.00  2.575900e+04  \n",
       "Canal_ID                 1.0        1.00  1.100000e+01  \n",
       "Ruta_SAK              1612.0     2903.00  9.991000e+03  \n",
       "Cliente_ID         1464178.0  2471564.00  2.015152e+09  \n",
       "Producto_ID          35113.0    43198.00  4.999700e+04  \n",
       "Venta_uni_hoy            4.0        8.00  7.200000e+03  \n",
       "Venta_hoy               34.5       64.17  6.473600e+05  \n",
       "Dev_uni_proxima          0.0        0.00  2.500000e+05  \n",
       "Dev_proxima              0.0        0.00  1.307600e+05  \n",
       "Demanda_uni_equil        4.0        8.00  5.000000e+03  "
      ]
     },
     "execution_count": 30,
     "metadata": {},
     "output_type": "execute_result"
    }
   ],
   "source": [
    "data_train_raw.describe().compute().T"
   ]
  }
 ],
 "metadata": {
  "kernelspec": {
   "display_name": "Python 3",
   "language": "python",
   "name": "python3"
  },
  "language_info": {
   "codemirror_mode": {
    "name": "ipython",
    "version": 3
   },
   "file_extension": ".py",
   "mimetype": "text/x-python",
   "name": "python",
   "nbconvert_exporter": "python",
   "pygments_lexer": "ipython3",
   "version": "3.8.3"
  }
 },
 "nbformat": 4,
 "nbformat_minor": 4
}
