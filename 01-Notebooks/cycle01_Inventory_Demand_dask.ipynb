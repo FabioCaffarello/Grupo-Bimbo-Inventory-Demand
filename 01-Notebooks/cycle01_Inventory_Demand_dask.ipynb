{
 "cells": [
  {
   "cell_type": "markdown",
   "metadata": {},
   "source": [
    "# 0.0 IMPORTS"
   ]
  },
  {
   "cell_type": "markdown",
   "metadata": {},
   "source": [
    "## 01. Libraries"
   ]
  },
  {
   "cell_type": "code",
   "execution_count": 56,
   "metadata": {},
   "outputs": [],
   "source": [
    "import warnings\n",
    "import inflection\n",
    "\n",
    "import dask.dataframe as dd\n",
    "\n",
    "from dask.distributed import Client, progress"
   ]
  },
  {
   "cell_type": "code",
   "execution_count": 21,
   "metadata": {},
   "outputs": [],
   "source": [
    "# import datetime\n",
    "# import numpy as np\n",
    "# import scipy.stats  as ss\n",
    "\n",
    "# from IPython.display         import Image\n",
    "# from IPython.core.display    import HTML\n",
    "\n",
    "# import matplotlib.pyplot as plt\n",
    "# import seaborn as sns"
   ]
  },
  {
   "cell_type": "markdown",
   "metadata": {},
   "source": [
    "# 0.2 Notebook Config"
   ]
  },
  {
   "cell_type": "code",
   "execution_count": 57,
   "metadata": {},
   "outputs": [],
   "source": [
    "warnings.filterwarnings(\"ignore\")"
   ]
  },
  {
   "cell_type": "code",
   "execution_count": 58,
   "metadata": {},
   "outputs": [
    {
     "data": {
      "text/html": [
       "<table style=\"border: 2px solid white;\">\n",
       "<tr>\n",
       "<td style=\"vertical-align: top; border: 0px solid white\">\n",
       "<h3 style=\"text-align: left;\">Client</h3>\n",
       "<ul style=\"text-align: left; list-style: none; margin: 0; padding: 0;\">\n",
       "  <li><b>Scheduler: </b>tcp://127.0.0.1:61518</li>\n",
       "  <li><b>Dashboard: </b><a href='http://127.0.0.1:61517/status' target='_blank'>http://127.0.0.1:61517/status</a></li>\n",
       "</ul>\n",
       "</td>\n",
       "<td style=\"vertical-align: top; border: 0px solid white\">\n",
       "<h3 style=\"text-align: left;\">Cluster</h3>\n",
       "<ul style=\"text-align: left; list-style:none; margin: 0; padding: 0;\">\n",
       "  <li><b>Workers: </b>4</li>\n",
       "  <li><b>Cores: </b>12</li>\n",
       "  <li><b>Memory: </b>16.98 GB</li>\n",
       "</ul>\n",
       "</td>\n",
       "</tr>\n",
       "</table>"
      ],
      "text/plain": [
       "<Client: 'tcp://127.0.0.1:61518' processes=4 threads=12, memory=16.98 GB>"
      ]
     },
     "execution_count": 58,
     "metadata": {},
     "output_type": "execute_result"
    }
   ],
   "source": [
    "client = Client()\n",
    "client"
   ]
  },
  {
   "cell_type": "code",
   "execution_count": 22,
   "metadata": {},
   "outputs": [],
   "source": [
    "# def jupyter_settings():\n",
    "#     %matplotlib inline\n",
    "    \n",
    "#     plt.style.use('bmh')\n",
    "#     plt.rcParams['figure.figsize'] = [25, 12]\n",
    "#     plt.rcParams['font.size'] = 24\n",
    "    \n",
    "#     display( HTML('<style>.container { width:100% !important; }</style>'))\n",
    "    \n",
    "#     warnings.filterwarnings(\"ignore\")\n",
    "    \n",
    "#     sns.set()"
   ]
  },
  {
   "cell_type": "code",
   "execution_count": 23,
   "metadata": {},
   "outputs": [
    {
     "data": {
      "text/html": [
       "<style>.container { width:100% !important; }</style>"
      ],
      "text/plain": [
       "<IPython.core.display.HTML object>"
      ]
     },
     "metadata": {},
     "output_type": "display_data"
    }
   ],
   "source": [
    "# seed = 42\n",
    "# np.random.seed(seed)\n",
    "\n",
    "# jupyter_settings()"
   ]
  },
  {
   "cell_type": "markdown",
   "metadata": {},
   "source": [
    "## 0.3 Helper Functions"
   ]
  },
  {
   "cell_type": "markdown",
   "metadata": {},
   "source": [
    "## 0.4 Load Data"
   ]
  },
  {
   "cell_type": "markdown",
   "metadata": {},
   "source": [
    "### 0.4.1 Load Raw Data"
   ]
  },
  {
   "cell_type": "code",
   "execution_count": 6,
   "metadata": {},
   "outputs": [
    {
     "name": "stdout",
     "output_type": "stream",
     "text": [
      "Wall time: 103 ms\n"
     ]
    }
   ],
   "source": [
    "data_train_raw = dd.read_csv('../00-Data/csv_data/train.csv')\n",
    "data_producto_raw = dd.read_csv('../00-Data/csv_data/producto_tabla.csv')\n",
    "data_cliente_raw = dd.read_csv('../00-Data/csv_data/cliente_tabla.csv')\n",
    "data_town_state_raw = dd.read_csv('../00-Data/csv_data/town_state.csv')"
   ]
  },
  {
   "cell_type": "markdown",
   "metadata": {},
   "source": [
    "### 0.4.2 Merge Dataset"
   ]
  },
  {
   "cell_type": "code",
   "execution_count": 8,
   "metadata": {},
   "outputs": [
    {
     "name": "stdout",
     "output_type": "stream",
     "text": [
      "Wall time: 2.24 s\n"
     ]
    },
    {
     "data": {
      "text/html": [
       "<div>\n",
       "<style scoped>\n",
       "    .dataframe tbody tr th:only-of-type {\n",
       "        vertical-align: middle;\n",
       "    }\n",
       "\n",
       "    .dataframe tbody tr th {\n",
       "        vertical-align: top;\n",
       "    }\n",
       "\n",
       "    .dataframe thead th {\n",
       "        text-align: right;\n",
       "    }\n",
       "</style>\n",
       "<table border=\"1\" class=\"dataframe\">\n",
       "  <thead>\n",
       "    <tr style=\"text-align: right;\">\n",
       "      <th></th>\n",
       "      <th>Semana</th>\n",
       "      <th>Canal_ID</th>\n",
       "      <th>Ruta_SAK</th>\n",
       "      <th>Venta_uni_hoy</th>\n",
       "      <th>Venta_hoy</th>\n",
       "      <th>Dev_uni_proxima</th>\n",
       "      <th>Dev_proxima</th>\n",
       "      <th>Demanda_uni_equil</th>\n",
       "      <th>NombreProducto</th>\n",
       "      <th>NombreCliente</th>\n",
       "      <th>Town</th>\n",
       "      <th>State</th>\n",
       "    </tr>\n",
       "  </thead>\n",
       "  <tbody>\n",
       "    <tr>\n",
       "      <th>0</th>\n",
       "      <td>3</td>\n",
       "      <td>7</td>\n",
       "      <td>3301</td>\n",
       "      <td>3</td>\n",
       "      <td>25.14</td>\n",
       "      <td>0</td>\n",
       "      <td>0.0</td>\n",
       "      <td>3</td>\n",
       "      <td>Roles Canela 2p 120g BIM 1212</td>\n",
       "      <td>PUESTO DE PERIODICOS LAZARO</td>\n",
       "      <td>2008 AG. LAGO FILT</td>\n",
       "      <td>MÉXICO, D.F.</td>\n",
       "    </tr>\n",
       "    <tr>\n",
       "      <th>1</th>\n",
       "      <td>3</td>\n",
       "      <td>7</td>\n",
       "      <td>3301</td>\n",
       "      <td>4</td>\n",
       "      <td>33.52</td>\n",
       "      <td>0</td>\n",
       "      <td>0.0</td>\n",
       "      <td>4</td>\n",
       "      <td>Roles Glass 2p 135g BIM 1216</td>\n",
       "      <td>PUESTO DE PERIODICOS LAZARO</td>\n",
       "      <td>2008 AG. LAGO FILT</td>\n",
       "      <td>MÉXICO, D.F.</td>\n",
       "    </tr>\n",
       "    <tr>\n",
       "      <th>2</th>\n",
       "      <td>3</td>\n",
       "      <td>7</td>\n",
       "      <td>3301</td>\n",
       "      <td>4</td>\n",
       "      <td>39.32</td>\n",
       "      <td>0</td>\n",
       "      <td>0.0</td>\n",
       "      <td>4</td>\n",
       "      <td>Panquecito Gota Choc 2p 140g BIM 1238</td>\n",
       "      <td>PUESTO DE PERIODICOS LAZARO</td>\n",
       "      <td>2008 AG. LAGO FILT</td>\n",
       "      <td>MÉXICO, D.F.</td>\n",
       "    </tr>\n",
       "    <tr>\n",
       "      <th>3</th>\n",
       "      <td>3</td>\n",
       "      <td>7</td>\n",
       "      <td>3301</td>\n",
       "      <td>4</td>\n",
       "      <td>33.52</td>\n",
       "      <td>0</td>\n",
       "      <td>0.0</td>\n",
       "      <td>4</td>\n",
       "      <td>Mantecadas Vainilla 4p 125g BIM 1240</td>\n",
       "      <td>PUESTO DE PERIODICOS LAZARO</td>\n",
       "      <td>2008 AG. LAGO FILT</td>\n",
       "      <td>MÉXICO, D.F.</td>\n",
       "    </tr>\n",
       "    <tr>\n",
       "      <th>4</th>\n",
       "      <td>3</td>\n",
       "      <td>7</td>\n",
       "      <td>3301</td>\n",
       "      <td>3</td>\n",
       "      <td>22.92</td>\n",
       "      <td>0</td>\n",
       "      <td>0.0</td>\n",
       "      <td>3</td>\n",
       "      <td>Donitas Espolvoreadas 6p 105g BIM 1242</td>\n",
       "      <td>PUESTO DE PERIODICOS LAZARO</td>\n",
       "      <td>2008 AG. LAGO FILT</td>\n",
       "      <td>MÉXICO, D.F.</td>\n",
       "    </tr>\n",
       "  </tbody>\n",
       "</table>\n",
       "</div>"
      ],
      "text/plain": [
       "   Semana  Canal_ID  Ruta_SAK  Venta_uni_hoy  Venta_hoy  Dev_uni_proxima  \\\n",
       "0       3         7      3301              3      25.14                0   \n",
       "1       3         7      3301              4      33.52                0   \n",
       "2       3         7      3301              4      39.32                0   \n",
       "3       3         7      3301              4      33.52                0   \n",
       "4       3         7      3301              3      22.92                0   \n",
       "\n",
       "   Dev_proxima  Demanda_uni_equil                          NombreProducto  \\\n",
       "0          0.0                  3           Roles Canela 2p 120g BIM 1212   \n",
       "1          0.0                  4            Roles Glass 2p 135g BIM 1216   \n",
       "2          0.0                  4   Panquecito Gota Choc 2p 140g BIM 1238   \n",
       "3          0.0                  4    Mantecadas Vainilla 4p 125g BIM 1240   \n",
       "4          0.0                  3  Donitas Espolvoreadas 6p 105g BIM 1242   \n",
       "\n",
       "                 NombreCliente                Town         State  \n",
       "0  PUESTO DE PERIODICOS LAZARO  2008 AG. LAGO FILT  MÉXICO, D.F.  \n",
       "1  PUESTO DE PERIODICOS LAZARO  2008 AG. LAGO FILT  MÉXICO, D.F.  \n",
       "2  PUESTO DE PERIODICOS LAZARO  2008 AG. LAGO FILT  MÉXICO, D.F.  \n",
       "3  PUESTO DE PERIODICOS LAZARO  2008 AG. LAGO FILT  MÉXICO, D.F.  \n",
       "4  PUESTO DE PERIODICOS LAZARO  2008 AG. LAGO FILT  MÉXICO, D.F.  "
      ]
     },
     "execution_count": 8,
     "metadata": {},
     "output_type": "execute_result"
    }
   ],
   "source": [
    "data_raw = dd.merge(data_train_raw, data_producto_raw, how='left', on='Producto_ID')\n",
    "data_raw = dd.merge(data_raw, data_cliente_raw, how='left', on='Cliente_ID')\n",
    "data_raw = dd.merge(data_raw, data_town_state_raw, how='left', on='Agencia_ID')\n",
    "data_raw = data_raw.drop(['Producto_ID', 'Cliente_ID', 'Agencia_ID'], axis=1)\n",
    "data_raw.head()"
   ]
  },
  {
   "cell_type": "markdown",
   "metadata": {},
   "source": [
    "# 1.0 DATA DESCRIPTION"
   ]
  },
  {
   "cell_type": "code",
   "execution_count": 9,
   "metadata": {},
   "outputs": [],
   "source": [
    "df01 = data_raw.copy()"
   ]
  },
  {
   "cell_type": "markdown",
   "metadata": {},
   "source": [
    "## 1.1 Columns"
   ]
  },
  {
   "cell_type": "code",
   "execution_count": 10,
   "metadata": {},
   "outputs": [
    {
     "data": {
      "text/plain": [
       "Index(['Semana', 'Canal_ID', 'Ruta_SAK', 'Venta_uni_hoy', 'Venta_hoy',\n",
       "       'Dev_uni_proxima', 'Dev_proxima', 'Demanda_uni_equil', 'NombreProducto',\n",
       "       'NombreCliente', 'Town', 'State'],\n",
       "      dtype='object')"
      ]
     },
     "execution_count": 10,
     "metadata": {},
     "output_type": "execute_result"
    }
   ],
   "source": [
    "df01.columns"
   ]
  },
  {
   "cell_type": "markdown",
   "metadata": {},
   "source": [
    "### 1.2.1 Rename Columns"
   ]
  },
  {
   "cell_type": "code",
   "execution_count": 13,
   "metadata": {},
   "outputs": [],
   "source": [
    "snakecase = lambda col: inflection.underscore(col)\n",
    "\n",
    "new_columns = list(map(snakecase, df01.columns))\n",
    "\n",
    "# rename\n",
    "df01.columns = new_columns"
   ]
  },
  {
   "cell_type": "markdown",
   "metadata": {},
   "source": [
    "### 1.2.2 New Name Columns"
   ]
  },
  {
   "cell_type": "code",
   "execution_count": 15,
   "metadata": {},
   "outputs": [
    {
     "data": {
      "text/plain": [
       "Index(['semana', 'canal_id', 'ruta_sak', 'venta_uni_hoy', 'venta_hoy',\n",
       "       'dev_uni_proxima', 'dev_proxima', 'demanda_uni_equil',\n",
       "       'nombre_producto', 'nombre_cliente', 'town', 'state'],\n",
       "      dtype='object')"
      ]
     },
     "execution_count": 15,
     "metadata": {},
     "output_type": "execute_result"
    }
   ],
   "source": [
    "df01.columns"
   ]
  },
  {
   "cell_type": "markdown",
   "metadata": {},
   "source": [
    "## 1.3 Data Dimensions"
   ]
  },
  {
   "cell_type": "code",
   "execution_count": 19,
   "metadata": {},
   "outputs": [
    {
     "name": "stdout",
     "output_type": "stream",
     "text": [
      "Number of Rows: 74773833\n",
      "Number of Columns: 12\n"
     ]
    }
   ],
   "source": [
    "print(f'Number of Rows: {df01.shape[0].compute()}')\n",
    "print(f'Number of Columns: {df01.shape[1]}')"
   ]
  },
  {
   "cell_type": "markdown",
   "metadata": {},
   "source": [
    "## 1.4 Data Types"
   ]
  },
  {
   "cell_type": "code",
   "execution_count": 20,
   "metadata": {},
   "outputs": [
    {
     "data": {
      "text/plain": [
       "semana                 int64\n",
       "canal_id               int64\n",
       "ruta_sak               int64\n",
       "venta_uni_hoy          int64\n",
       "venta_hoy            float64\n",
       "dev_uni_proxima        int64\n",
       "dev_proxima          float64\n",
       "demanda_uni_equil      int64\n",
       "nombre_producto       object\n",
       "nombre_cliente        object\n",
       "town                  object\n",
       "state                 object\n",
       "dtype: object"
      ]
     },
     "execution_count": 20,
     "metadata": {},
     "output_type": "execute_result"
    }
   ],
   "source": [
    "df01.dtypes"
   ]
  },
  {
   "cell_type": "markdown",
   "metadata": {},
   "source": [
    "## 1.5 Missing Values"
   ]
  },
  {
   "cell_type": "code",
   "execution_count": 54,
   "metadata": {},
   "outputs": [
    {
     "name": "stdout",
     "output_type": "stream",
     "text": [
      "Wall time: 1min 29s\n"
     ]
    },
    {
     "data": {
      "text/plain": [
       "Semana               0\n",
       "Canal_ID             0\n",
       "Ruta_SAK             0\n",
       "Venta_uni_hoy        0\n",
       "Venta_hoy            0\n",
       "Dev_uni_proxima      0\n",
       "Dev_proxima          0\n",
       "Demanda_uni_equil    0\n",
       "NombreProducto       0\n",
       "NombreCliente        0\n",
       "Town                 0\n",
       "State                0\n",
       "dtype: int64"
      ]
     },
     "execution_count": 54,
     "metadata": {},
     "output_type": "execute_result"
    }
   ],
   "source": [
    "data_raw.isnull().sum().compute()"
   ]
  },
  {
   "cell_type": "markdown",
   "metadata": {},
   "source": [
    "### 1.5.2 Fillout NA"
   ]
  },
  {
   "cell_type": "markdown",
   "metadata": {},
   "source": [
    "There is no NA values"
   ]
  },
  {
   "cell_type": "markdown",
   "metadata": {},
   "source": [
    "## 1.6 Descriptive Statistical"
   ]
  },
  {
   "cell_type": "code",
   "execution_count": 22,
   "metadata": {},
   "outputs": [],
   "source": [
    "num_attributes = df01.select_dtypes(include=['int64', 'float64'])"
   ]
  },
  {
   "cell_type": "code",
   "execution_count": 89,
   "metadata": {},
   "outputs": [
    {
     "data": {
      "text/html": [
       "<div>\n",
       "<style scoped>\n",
       "    .dataframe tbody tr th:only-of-type {\n",
       "        vertical-align: middle;\n",
       "    }\n",
       "\n",
       "    .dataframe tbody tr th {\n",
       "        vertical-align: top;\n",
       "    }\n",
       "\n",
       "    .dataframe thead th {\n",
       "        text-align: right;\n",
       "    }\n",
       "</style>\n",
       "<table border=\"1\" class=\"dataframe\">\n",
       "  <thead>\n",
       "    <tr style=\"text-align: right;\">\n",
       "      <th></th>\n",
       "      <th>Min</th>\n",
       "      <th>Max</th>\n",
       "      <th>Range</th>\n",
       "      <th>Mean</th>\n",
       "      <th>Std</th>\n",
       "      <th>Median</th>\n",
       "      <th>IQR</th>\n",
       "      <th>25%</th>\n",
       "      <th>75%</th>\n",
       "      <th>Relative Std</th>\n",
       "    </tr>\n",
       "  </thead>\n",
       "  <tbody>\n",
       "    <tr>\n",
       "      <th>semana</th>\n",
       "      <td>3.0</td>\n",
       "      <td>9.0</td>\n",
       "      <td>6.0</td>\n",
       "      <td>5.950119</td>\n",
       "      <td>2.013151</td>\n",
       "      <td>6.00</td>\n",
       "      <td>4.00</td>\n",
       "      <td>4.00</td>\n",
       "      <td>8.00</td>\n",
       "      <td>0.338338</td>\n",
       "    </tr>\n",
       "    <tr>\n",
       "      <th>canal_id</th>\n",
       "      <td>1.0</td>\n",
       "      <td>11.0</td>\n",
       "      <td>10.0</td>\n",
       "      <td>1.388785</td>\n",
       "      <td>1.470505</td>\n",
       "      <td>1.00</td>\n",
       "      <td>0.00</td>\n",
       "      <td>1.00</td>\n",
       "      <td>1.00</td>\n",
       "      <td>1.058843</td>\n",
       "    </tr>\n",
       "    <tr>\n",
       "      <th>ruta_sak</th>\n",
       "      <td>1.0</td>\n",
       "      <td>9991.0</td>\n",
       "      <td>9990.0</td>\n",
       "      <td>2120.527163</td>\n",
       "      <td>1494.363905</td>\n",
       "      <td>1614.00</td>\n",
       "      <td>1691.00</td>\n",
       "      <td>1213.00</td>\n",
       "      <td>2904.00</td>\n",
       "      <td>0.704713</td>\n",
       "    </tr>\n",
       "    <tr>\n",
       "      <th>venta_uni_hoy</th>\n",
       "      <td>0.0</td>\n",
       "      <td>7200.0</td>\n",
       "      <td>7200.0</td>\n",
       "      <td>7.340670</td>\n",
       "      <td>22.165330</td>\n",
       "      <td>4.00</td>\n",
       "      <td>6.00</td>\n",
       "      <td>2.00</td>\n",
       "      <td>8.00</td>\n",
       "      <td>3.019524</td>\n",
       "    </tr>\n",
       "    <tr>\n",
       "      <th>venta_hoy</th>\n",
       "      <td>0.0</td>\n",
       "      <td>647360.0</td>\n",
       "      <td>647360.0</td>\n",
       "      <td>68.919069</td>\n",
       "      <td>340.325673</td>\n",
       "      <td>34.59</td>\n",
       "      <td>45.31</td>\n",
       "      <td>18.86</td>\n",
       "      <td>64.17</td>\n",
       "      <td>4.938048</td>\n",
       "    </tr>\n",
       "    <tr>\n",
       "      <th>dev_uni_proxima</th>\n",
       "      <td>0.0</td>\n",
       "      <td>250000.0</td>\n",
       "      <td>250000.0</td>\n",
       "      <td>0.129932</td>\n",
       "      <td>29.207650</td>\n",
       "      <td>0.00</td>\n",
       "      <td>0.00</td>\n",
       "      <td>0.00</td>\n",
       "      <td>0.00</td>\n",
       "      <td>224.792458</td>\n",
       "    </tr>\n",
       "    <tr>\n",
       "      <th>dev_proxima</th>\n",
       "      <td>0.0</td>\n",
       "      <td>130760.0</td>\n",
       "      <td>130760.0</td>\n",
       "      <td>1.240560</td>\n",
       "      <td>39.131953</td>\n",
       "      <td>0.00</td>\n",
       "      <td>0.00</td>\n",
       "      <td>0.00</td>\n",
       "      <td>0.00</td>\n",
       "      <td>31.543777</td>\n",
       "    </tr>\n",
       "    <tr>\n",
       "      <th>demanda_uni_equil</th>\n",
       "      <td>0.0</td>\n",
       "      <td>5000.0</td>\n",
       "      <td>5000.0</td>\n",
       "      <td>7.255290</td>\n",
       "      <td>21.972330</td>\n",
       "      <td>4.00</td>\n",
       "      <td>6.00</td>\n",
       "      <td>2.00</td>\n",
       "      <td>8.00</td>\n",
       "      <td>3.028457</td>\n",
       "    </tr>\n",
       "  </tbody>\n",
       "</table>\n",
       "</div>"
      ],
      "text/plain": [
       "                   Min       Max     Range         Mean          Std   Median  \\\n",
       "semana             3.0       9.0       6.0     5.950119     2.013151     6.00   \n",
       "canal_id           1.0      11.0      10.0     1.388785     1.470505     1.00   \n",
       "ruta_sak           1.0    9991.0    9990.0  2120.527163  1494.363905  1614.00   \n",
       "venta_uni_hoy      0.0    7200.0    7200.0     7.340670    22.165330     4.00   \n",
       "venta_hoy          0.0  647360.0  647360.0    68.919069   340.325673    34.59   \n",
       "dev_uni_proxima    0.0  250000.0  250000.0     0.129932    29.207650     0.00   \n",
       "dev_proxima        0.0  130760.0  130760.0     1.240560    39.131953     0.00   \n",
       "demanda_uni_equil  0.0    5000.0    5000.0     7.255290    21.972330     4.00   \n",
       "\n",
       "                       IQR      25%      75%  Relative Std  \n",
       "semana                4.00     4.00     8.00      0.338338  \n",
       "canal_id              0.00     1.00     1.00      1.058843  \n",
       "ruta_sak           1691.00  1213.00  2904.00      0.704713  \n",
       "venta_uni_hoy         6.00     2.00     8.00      3.019524  \n",
       "venta_hoy            45.31    18.86    64.17      4.938048  \n",
       "dev_uni_proxima       0.00     0.00     0.00    224.792458  \n",
       "dev_proxima           0.00     0.00     0.00     31.543777  \n",
       "demanda_uni_equil     6.00     2.00     8.00      3.028457  "
      ]
     },
     "execution_count": 89,
     "metadata": {},
     "output_type": "execute_result"
    }
   ],
   "source": [
    "describe = num_attributes.describe().compute().T\n",
    "\n",
    "describe['Relative Std'] = describe['std'] / describe['mean']\n",
    "describe['range'] = describe['max'] - describe['min']\n",
    "describe['IQR'] = describe['75%'] - describe['25%']\n",
    "describe = describe[['min', 'max', 'range', 'mean','std', '50%', 'IQR', '25%', '75%', 'Relative Std']]\n",
    "describe.columns = ['Min', 'Max', 'Range', 'Mean', 'Std', 'Median', 'IQR', '25%', '75%', 'Relative Std']\n",
    "describe"
   ]
  }
 ],
 "metadata": {
  "kernelspec": {
   "display_name": "Python 3",
   "language": "python",
   "name": "python3"
  },
  "language_info": {
   "codemirror_mode": {
    "name": "ipython",
    "version": 3
   },
   "file_extension": ".py",
   "mimetype": "text/x-python",
   "name": "python",
   "nbconvert_exporter": "python",
   "pygments_lexer": "ipython3",
   "version": "3.8.3"
  }
 },
 "nbformat": 4,
 "nbformat_minor": 4
}
