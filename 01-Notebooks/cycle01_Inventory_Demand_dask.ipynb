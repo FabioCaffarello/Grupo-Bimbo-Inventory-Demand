{
 "cells": [
  {
   "cell_type": "markdown",
   "metadata": {},
   "source": [
    "# 0.0 IMPORTS"
   ]
  },
  {
   "cell_type": "markdown",
   "metadata": {},
   "source": [
    "## 01. Libraries"
   ]
  },
  {
   "cell_type": "code",
   "execution_count": 1,
   "metadata": {},
   "outputs": [],
   "source": [
    "import warnings\n",
    "import inflection\n",
    "import numpy as np\n",
    "\n",
    "import seaborn as sns\n",
    "import matplotlib.pyplot as plt\n",
    "\n",
    "import dask.dataframe as dd\n",
    "\n",
    "from dask.distributed import Client, progress"
   ]
  },
  {
   "cell_type": "code",
   "execution_count": 21,
   "metadata": {},
   "outputs": [],
   "source": [
    "# import datetime\n",
    "# import numpy as np\n",
    "# import scipy.stats  as ss\n",
    "\n",
    "# from IPython.display         import Image\n",
    "# from IPython.core.display    import HTML\n",
    "\n",
    "# import matplotlib.pyplot as plt\n",
    "# import seaborn as sns"
   ]
  },
  {
   "cell_type": "markdown",
   "metadata": {},
   "source": [
    "# 0.2 Notebook Config"
   ]
  },
  {
   "cell_type": "code",
   "execution_count": 2,
   "metadata": {},
   "outputs": [],
   "source": [
    "warnings.filterwarnings(\"ignore\")"
   ]
  },
  {
   "cell_type": "code",
   "execution_count": 3,
   "metadata": {},
   "outputs": [
    {
     "data": {
      "text/html": [
       "<table style=\"border: 2px solid white;\">\n",
       "<tr>\n",
       "<td style=\"vertical-align: top; border: 0px solid white\">\n",
       "<h3 style=\"text-align: left;\">Client</h3>\n",
       "<ul style=\"text-align: left; list-style: none; margin: 0; padding: 0;\">\n",
       "  <li><b>Scheduler: </b>tcp://127.0.0.1:51403</li>\n",
       "  <li><b>Dashboard: </b><a href='http://127.0.0.1:8787/status' target='_blank'>http://127.0.0.1:8787/status</a></li>\n",
       "</ul>\n",
       "</td>\n",
       "<td style=\"vertical-align: top; border: 0px solid white\">\n",
       "<h3 style=\"text-align: left;\">Cluster</h3>\n",
       "<ul style=\"text-align: left; list-style:none; margin: 0; padding: 0;\">\n",
       "  <li><b>Workers: </b>4</li>\n",
       "  <li><b>Cores: </b>12</li>\n",
       "  <li><b>Memory: </b>16.98 GB</li>\n",
       "</ul>\n",
       "</td>\n",
       "</tr>\n",
       "</table>"
      ],
      "text/plain": [
       "<Client: 'tcp://127.0.0.1:51403' processes=4 threads=12, memory=16.98 GB>"
      ]
     },
     "execution_count": 3,
     "metadata": {},
     "output_type": "execute_result"
    }
   ],
   "source": [
    "client = Client()\n",
    "client"
   ]
  },
  {
   "cell_type": "code",
   "execution_count": 4,
   "metadata": {},
   "outputs": [],
   "source": [
    "# def jupyter_settings():\n",
    "#     %matplotlib inline\n",
    "    \n",
    "#     plt.style.use('bmh')\n",
    "#     plt.rcParams['figure.figsize'] = [25, 12]\n",
    "#     plt.rcParams['font.size'] = 24\n",
    "    \n",
    "#     display( HTML('<style>.container { width:100% !important; }</style>'))\n",
    "    \n",
    "#     warnings.filterwarnings(\"ignore\")\n",
    "    \n",
    "#     sns.set()"
   ]
  },
  {
   "cell_type": "code",
   "execution_count": 5,
   "metadata": {},
   "outputs": [],
   "source": [
    "# seed = 42\n",
    "# np.random.seed(seed)\n",
    "\n",
    "# jupyter_settings()"
   ]
  },
  {
   "cell_type": "markdown",
   "metadata": {},
   "source": [
    "## 0.3 Helper Functions"
   ]
  },
  {
   "cell_type": "code",
   "execution_count": 15,
   "metadata": {},
   "outputs": [],
   "source": [
    "def rename_columns(df):\n",
    "    '''Transforms the names of the columns of a dataframe into the snakecase format\n",
    "    \n",
    "    Params\n",
    "    ------\n",
    "    df: Dataframe to have the columns converted\n",
    "    \n",
    "    Return\n",
    "    ------\n",
    "    Returns the renamed columns\n",
    "    \n",
    "    '''\n",
    "    # function to convert into snakecase format\n",
    "    snakecase = lambda col: inflection.underscore(col)\n",
    "    # mapping the function to convert into snakecase format with the dataframe columns\n",
    "    new_columns = list(map(snakecase, df.columns))\n",
    "    # rename the colums\n",
    "    df.columns = new_columns\n",
    "    return df.columns"
   ]
  },
  {
   "cell_type": "markdown",
   "metadata": {},
   "source": [
    "## 0.4 Load Data"
   ]
  },
  {
   "cell_type": "markdown",
   "metadata": {},
   "source": [
    "### 0.4.1 Load Raw Data"
   ]
  },
  {
   "cell_type": "markdown",
   "metadata": {},
   "source": [
    "#### 0.4.1.1 train"
   ]
  },
  {
   "cell_type": "code",
   "execution_count": 6,
   "metadata": {},
   "outputs": [],
   "source": [
    "types = {'Semana':np.uint8, 'Agencia_ID':np.uint16, 'Canal_ID':np.uint8,\n",
    "         'Ruta_SAK':np.uint16, 'Cliente_ID':np.uint32, 'Producto_ID':np.uint16,\n",
    "         'Demanda_uni_equil':np.uint32}\n",
    "\n",
    "data_train_raw = dd.read_csv('../00-Data/csv_data/train.csv', usecols=types.keys(), dtype=types)"
   ]
  },
  {
   "cell_type": "markdown",
   "metadata": {},
   "source": [
    "#### 0.4.1.2 producto_tabla"
   ]
  },
  {
   "cell_type": "code",
   "execution_count": 7,
   "metadata": {},
   "outputs": [],
   "source": [
    "types = {'Producto_ID':np.uint16,\n",
    "         'NombreProducto':'object'}\n",
    "\n",
    "\n",
    "data_producto_raw = dd.read_csv('../00-Data/csv_data/producto_tabla.csv', usecols=types.keys(), dtype=types)"
   ]
  },
  {
   "cell_type": "markdown",
   "metadata": {},
   "source": [
    "#### 0.4.1.3 cliente_tabla"
   ]
  },
  {
   "cell_type": "code",
   "execution_count": 8,
   "metadata": {},
   "outputs": [],
   "source": [
    "types = {'Cliente_ID':np.uint32,\n",
    "         'NombreCliente':'object'}\n",
    "\n",
    "\n",
    "data_cliente_raw = dd.read_csv('../00-Data/csv_data/cliente_tabla.csv', usecols=types.keys(), dtype=types)"
   ]
  },
  {
   "cell_type": "markdown",
   "metadata": {},
   "source": [
    "#### 0.4.1.4 town_state"
   ]
  },
  {
   "cell_type": "code",
   "execution_count": 9,
   "metadata": {},
   "outputs": [],
   "source": [
    "types = {'Agencia_ID':np.uint16,\n",
    "         'Town':'object',\n",
    "         'State':'object'}\n",
    "\n",
    "\n",
    "data_town_state_raw = dd.read_csv('../00-Data/csv_data/town_state.csv', usecols=types.keys(), dtype=types)"
   ]
  },
  {
   "cell_type": "code",
   "execution_count": 10,
   "metadata": {},
   "outputs": [],
   "source": [
    "# data_train_raw = dd.read_csv('../00-Data/csv_data/train.csv')\n",
    "# data_producto_raw = dd.read_csv('../00-Data/csv_data/producto_tabla.csv')\n",
    "# data_cliente_raw = dd.read_csv('../00-Data/csv_data/cliente_tabla.csv')\n",
    "# data_town_state_raw = dd.read_csv('../00-Data/csv_data/town_state.csv')"
   ]
  },
  {
   "cell_type": "markdown",
   "metadata": {},
   "source": [
    "### 0.4.2 Merge Dataset"
   ]
  },
  {
   "cell_type": "code",
   "execution_count": 11,
   "metadata": {},
   "outputs": [],
   "source": [
    "# data_raw = dd.merge(data_train_raw, data_producto_raw, how='left', on='Producto_ID')\n",
    "# data_raw = dd.merge(data_raw, data_cliente_raw, how='left', on='Cliente_ID')\n",
    "# data_raw = dd.merge(data_raw, data_town_state_raw, how='left', on='Agencia_ID')\n",
    "# data_raw = data_raw.drop(['Producto_ID', 'Cliente_ID', 'Agencia_ID'], axis=1)\n",
    "# data_raw.head()"
   ]
  },
  {
   "cell_type": "markdown",
   "metadata": {},
   "source": [
    "# 1.0 DATA DESCRIPTION"
   ]
  },
  {
   "cell_type": "markdown",
   "metadata": {},
   "source": [
    "## 1.1 Training"
   ]
  },
  {
   "cell_type": "code",
   "execution_count": 12,
   "metadata": {},
   "outputs": [],
   "source": [
    "df_train_01 = data_train_raw.copy()"
   ]
  },
  {
   "cell_type": "markdown",
   "metadata": {},
   "source": [
    "### 1.1.1 Columns"
   ]
  },
  {
   "cell_type": "code",
   "execution_count": 14,
   "metadata": {},
   "outputs": [
    {
     "data": {
      "text/plain": [
       "Index(['Semana', 'Agencia_ID', 'Canal_ID', 'Ruta_SAK', 'Cliente_ID',\n",
       "       'Producto_ID', 'Demanda_uni_equil'],\n",
       "      dtype='object')"
      ]
     },
     "execution_count": 14,
     "metadata": {},
     "output_type": "execute_result"
    }
   ],
   "source": [
    "df_train_01.columns"
   ]
  },
  {
   "cell_type": "markdown",
   "metadata": {},
   "source": [
    "### 1.1.2 Rename Columns"
   ]
  },
  {
   "cell_type": "code",
   "execution_count": 16,
   "metadata": {},
   "outputs": [
    {
     "data": {
      "text/plain": [
       "Index(['semana', 'agencia_id', 'canal_id', 'ruta_sak', 'cliente_id',\n",
       "       'producto_id', 'demanda_uni_equil'],\n",
       "      dtype='object')"
      ]
     },
     "execution_count": 16,
     "metadata": {},
     "output_type": "execute_result"
    }
   ],
   "source": [
    "rename_columns(df_train_01)"
   ]
  },
  {
   "cell_type": "markdown",
   "metadata": {},
   "source": [
    "### 1.1.3 Data Dimensions"
   ]
  },
  {
   "cell_type": "code",
   "execution_count": 18,
   "metadata": {},
   "outputs": [
    {
     "name": "stdout",
     "output_type": "stream",
     "text": [
      "Number of Rows: 74180464\n",
      "Number of Columns: 7\n"
     ]
    }
   ],
   "source": [
    "print(f'Number of Rows: {df_train_01.shape[0].compute()}')\n",
    "print(f'Number of Columns: {df_train_01.shape[1]}')"
   ]
  },
  {
   "cell_type": "markdown",
   "metadata": {},
   "source": [
    "### 1.1.4 Data Types"
   ]
  },
  {
   "cell_type": "code",
   "execution_count": 19,
   "metadata": {},
   "outputs": [
    {
     "data": {
      "text/plain": [
       "semana                uint8\n",
       "agencia_id           uint16\n",
       "canal_id              uint8\n",
       "ruta_sak             uint16\n",
       "cliente_id           uint32\n",
       "producto_id          uint16\n",
       "demanda_uni_equil    uint32\n",
       "dtype: object"
      ]
     },
     "execution_count": 19,
     "metadata": {},
     "output_type": "execute_result"
    }
   ],
   "source": [
    "df_train_01.dtypes"
   ]
  },
  {
   "cell_type": "markdown",
   "metadata": {},
   "source": [
    "### 1.1.5 Missing Values"
   ]
  },
  {
   "cell_type": "code",
   "execution_count": 78,
   "metadata": {},
   "outputs": [
    {
     "name": "stdout",
     "output_type": "stream",
     "text": [
      "Wall time: 21.7 s\n"
     ]
    },
    {
     "data": {
      "text/plain": [
       "semana               0\n",
       "agencia_id           0\n",
       "canal_id             0\n",
       "ruta_sak             0\n",
       "cliente_id           0\n",
       "producto_id          0\n",
       "demanda_uni_equil    0\n",
       "dtype: int64"
      ]
     },
     "execution_count": 78,
     "metadata": {},
     "output_type": "execute_result"
    }
   ],
   "source": [
    "%%time\n",
    "df_train_01.isnull().sum().compute()"
   ]
  },
  {
   "cell_type": "markdown",
   "metadata": {},
   "source": [
    "### 1.1.6 ~~Fillout NA~~"
   ]
  },
  {
   "cell_type": "markdown",
   "metadata": {},
   "source": [
    "There is no NA values"
   ]
  },
  {
   "cell_type": "markdown",
   "metadata": {},
   "source": [
    "## 1.6 Descriptive Statistical"
   ]
  },
  {
   "cell_type": "code",
   "execution_count": 21,
   "metadata": {},
   "outputs": [],
   "source": [
    "num_attributes = df_train_01.select_dtypes(exclude=['object'])"
   ]
  },
  {
   "cell_type": "code",
   "execution_count": 22,
   "metadata": {},
   "outputs": [
    {
     "data": {
      "text/html": [
       "<div>\n",
       "<style scoped>\n",
       "    .dataframe tbody tr th:only-of-type {\n",
       "        vertical-align: middle;\n",
       "    }\n",
       "\n",
       "    .dataframe tbody tr th {\n",
       "        vertical-align: top;\n",
       "    }\n",
       "\n",
       "    .dataframe thead th {\n",
       "        text-align: right;\n",
       "    }\n",
       "</style>\n",
       "<table border=\"1\" class=\"dataframe\">\n",
       "  <thead>\n",
       "    <tr style=\"text-align: right;\">\n",
       "      <th></th>\n",
       "      <th>Min</th>\n",
       "      <th>Max</th>\n",
       "      <th>Range</th>\n",
       "      <th>Mean</th>\n",
       "      <th>Std</th>\n",
       "      <th>Median</th>\n",
       "      <th>IQR</th>\n",
       "      <th>25%</th>\n",
       "      <th>75%</th>\n",
       "      <th>Relative Std</th>\n",
       "    </tr>\n",
       "  </thead>\n",
       "  <tbody>\n",
       "    <tr>\n",
       "      <th>semana</th>\n",
       "      <td>3.0</td>\n",
       "      <td>9.000000e+00</td>\n",
       "      <td>6.000000e+00</td>\n",
       "      <td>5.950021e+00</td>\n",
       "      <td>2.013175e+00</td>\n",
       "      <td>6.0</td>\n",
       "      <td>4.0</td>\n",
       "      <td>4.0</td>\n",
       "      <td>8.0</td>\n",
       "      <td>0.338348</td>\n",
       "    </tr>\n",
       "    <tr>\n",
       "      <th>agencia_id</th>\n",
       "      <td>1110.0</td>\n",
       "      <td>2.575900e+04</td>\n",
       "      <td>2.464900e+04</td>\n",
       "      <td>2.536509e+03</td>\n",
       "      <td>4.075124e+03</td>\n",
       "      <td>1622.0</td>\n",
       "      <td>720.0</td>\n",
       "      <td>1334.0</td>\n",
       "      <td>2054.0</td>\n",
       "      <td>1.606588</td>\n",
       "    </tr>\n",
       "    <tr>\n",
       "      <th>canal_id</th>\n",
       "      <td>1.0</td>\n",
       "      <td>1.100000e+01</td>\n",
       "      <td>1.000000e+01</td>\n",
       "      <td>1.383181e+00</td>\n",
       "      <td>1.463266e+00</td>\n",
       "      <td>1.0</td>\n",
       "      <td>0.0</td>\n",
       "      <td>1.0</td>\n",
       "      <td>1.0</td>\n",
       "      <td>1.057899</td>\n",
       "    </tr>\n",
       "    <tr>\n",
       "      <th>ruta_sak</th>\n",
       "      <td>1.0</td>\n",
       "      <td>9.991000e+03</td>\n",
       "      <td>9.990000e+03</td>\n",
       "      <td>2.114855e+03</td>\n",
       "      <td>1.487744e+03</td>\n",
       "      <td>1612.0</td>\n",
       "      <td>1690.0</td>\n",
       "      <td>1213.0</td>\n",
       "      <td>2903.0</td>\n",
       "      <td>0.703473</td>\n",
       "    </tr>\n",
       "    <tr>\n",
       "      <th>cliente_id</th>\n",
       "      <td>26.0</td>\n",
       "      <td>2.015152e+09</td>\n",
       "      <td>2.015152e+09</td>\n",
       "      <td>1.802119e+06</td>\n",
       "      <td>2.349577e+06</td>\n",
       "      <td>1464178.0</td>\n",
       "      <td>1989265.0</td>\n",
       "      <td>482299.0</td>\n",
       "      <td>2471564.0</td>\n",
       "      <td>1.303786</td>\n",
       "    </tr>\n",
       "    <tr>\n",
       "      <th>producto_id</th>\n",
       "      <td>41.0</td>\n",
       "      <td>4.999700e+04</td>\n",
       "      <td>4.995600e+04</td>\n",
       "      <td>2.084081e+04</td>\n",
       "      <td>1.866392e+04</td>\n",
       "      <td>35113.0</td>\n",
       "      <td>40965.0</td>\n",
       "      <td>2233.0</td>\n",
       "      <td>43198.0</td>\n",
       "      <td>0.895547</td>\n",
       "    </tr>\n",
       "    <tr>\n",
       "      <th>demanda_uni_equil</th>\n",
       "      <td>0.0</td>\n",
       "      <td>5.000000e+03</td>\n",
       "      <td>5.000000e+03</td>\n",
       "      <td>7.224564e+00</td>\n",
       "      <td>2.177119e+01</td>\n",
       "      <td>4.0</td>\n",
       "      <td>6.0</td>\n",
       "      <td>2.0</td>\n",
       "      <td>8.0</td>\n",
       "      <td>3.013496</td>\n",
       "    </tr>\n",
       "  </tbody>\n",
       "</table>\n",
       "</div>"
      ],
      "text/plain": [
       "                      Min           Max         Range          Mean  \\\n",
       "semana                3.0  9.000000e+00  6.000000e+00  5.950021e+00   \n",
       "agencia_id         1110.0  2.575900e+04  2.464900e+04  2.536509e+03   \n",
       "canal_id              1.0  1.100000e+01  1.000000e+01  1.383181e+00   \n",
       "ruta_sak              1.0  9.991000e+03  9.990000e+03  2.114855e+03   \n",
       "cliente_id           26.0  2.015152e+09  2.015152e+09  1.802119e+06   \n",
       "producto_id          41.0  4.999700e+04  4.995600e+04  2.084081e+04   \n",
       "demanda_uni_equil     0.0  5.000000e+03  5.000000e+03  7.224564e+00   \n",
       "\n",
       "                            Std     Median        IQR       25%        75%  \\\n",
       "semana             2.013175e+00        6.0        4.0       4.0        8.0   \n",
       "agencia_id         4.075124e+03     1622.0      720.0    1334.0     2054.0   \n",
       "canal_id           1.463266e+00        1.0        0.0       1.0        1.0   \n",
       "ruta_sak           1.487744e+03     1612.0     1690.0    1213.0     2903.0   \n",
       "cliente_id         2.349577e+06  1464178.0  1989265.0  482299.0  2471564.0   \n",
       "producto_id        1.866392e+04    35113.0    40965.0    2233.0    43198.0   \n",
       "demanda_uni_equil  2.177119e+01        4.0        6.0       2.0        8.0   \n",
       "\n",
       "                   Relative Std  \n",
       "semana                 0.338348  \n",
       "agencia_id             1.606588  \n",
       "canal_id               1.057899  \n",
       "ruta_sak               0.703473  \n",
       "cliente_id             1.303786  \n",
       "producto_id            0.895547  \n",
       "demanda_uni_equil      3.013496  "
      ]
     },
     "execution_count": 22,
     "metadata": {},
     "output_type": "execute_result"
    }
   ],
   "source": [
    "describe = num_attributes.describe().compute().T\n",
    "\n",
    "describe['Relative Std'] = describe['std'] / describe['mean']\n",
    "describe['range'] = describe['max'] - describe['min']\n",
    "describe['IQR'] = describe['75%'] - describe['25%']\n",
    "describe = describe[['min', 'max', 'range', 'mean','std', '50%', 'IQR', '25%', '75%', 'Relative Std']]\n",
    "describe.columns = ['Min', 'Max', 'Range', 'Mean', 'Std', 'Median', 'IQR', '25%', '75%', 'Relative Std']\n",
    "describe"
   ]
  },
  {
   "cell_type": "markdown",
   "metadata": {},
   "source": [
    "## 1.2 Product"
   ]
  },
  {
   "cell_type": "code",
   "execution_count": 23,
   "metadata": {},
   "outputs": [],
   "source": [
    "df_producto_01 = data_producto_raw.copy()"
   ]
  },
  {
   "cell_type": "markdown",
   "metadata": {},
   "source": [
    "### 1.2.1 Columns"
   ]
  },
  {
   "cell_type": "code",
   "execution_count": 24,
   "metadata": {},
   "outputs": [
    {
     "data": {
      "text/plain": [
       "Index(['Producto_ID', 'NombreProducto'], dtype='object')"
      ]
     },
     "execution_count": 24,
     "metadata": {},
     "output_type": "execute_result"
    }
   ],
   "source": [
    "df_producto_01.columns"
   ]
  },
  {
   "cell_type": "markdown",
   "metadata": {},
   "source": [
    "### 1.2.2 Rename Columns"
   ]
  },
  {
   "cell_type": "code",
   "execution_count": 25,
   "metadata": {},
   "outputs": [
    {
     "data": {
      "text/plain": [
       "Index(['producto_id', 'nombre_producto'], dtype='object')"
      ]
     },
     "execution_count": 25,
     "metadata": {},
     "output_type": "execute_result"
    }
   ],
   "source": [
    "rename_columns(df_producto_01)"
   ]
  },
  {
   "cell_type": "markdown",
   "metadata": {},
   "source": [
    "### 1.2.3 Data Dimensions"
   ]
  },
  {
   "cell_type": "code",
   "execution_count": 26,
   "metadata": {},
   "outputs": [
    {
     "name": "stdout",
     "output_type": "stream",
     "text": [
      "Number of Rows: 2592\n",
      "Number of Columns: 2\n"
     ]
    }
   ],
   "source": [
    "print(f'Number of Rows: {df_producto_01.shape[0].compute()}')\n",
    "print(f'Number of Columns: {df_producto_01.shape[1]}')"
   ]
  },
  {
   "cell_type": "markdown",
   "metadata": {},
   "source": [
    "### 1.2.4 Data Types"
   ]
  },
  {
   "cell_type": "code",
   "execution_count": 27,
   "metadata": {},
   "outputs": [
    {
     "data": {
      "text/plain": [
       "producto_id        uint16\n",
       "nombre_producto    object\n",
       "dtype: object"
      ]
     },
     "execution_count": 27,
     "metadata": {},
     "output_type": "execute_result"
    }
   ],
   "source": [
    "df_producto_01.dtypes"
   ]
  },
  {
   "cell_type": "markdown",
   "metadata": {},
   "source": [
    "### 1.2.5 Missing Values"
   ]
  },
  {
   "cell_type": "code",
   "execution_count": 28,
   "metadata": {},
   "outputs": [
    {
     "data": {
      "text/plain": [
       "producto_id        0\n",
       "nombre_producto    0\n",
       "dtype: int64"
      ]
     },
     "execution_count": 28,
     "metadata": {},
     "output_type": "execute_result"
    }
   ],
   "source": [
    "df_producto_01.isnull().sum().compute()"
   ]
  },
  {
   "cell_type": "markdown",
   "metadata": {},
   "source": [
    "### 1.2.6 ~~Fillout NA~~"
   ]
  },
  {
   "cell_type": "markdown",
   "metadata": {},
   "source": [
    "There is no NA values"
   ]
  },
  {
   "cell_type": "markdown",
   "metadata": {},
   "source": [
    "## 1.3 Client"
   ]
  },
  {
   "cell_type": "code",
   "execution_count": 29,
   "metadata": {},
   "outputs": [],
   "source": [
    "df_client_01 = data_client_raw.copy()"
   ]
  },
  {
   "cell_type": "markdown",
   "metadata": {},
   "source": [
    "### 1.3.1 Columns"
   ]
  },
  {
   "cell_type": "code",
   "execution_count": 30,
   "metadata": {},
   "outputs": [
    {
     "data": {
      "text/plain": [
       "Index(['Cliente_ID', 'NombreCliente'], dtype='object')"
      ]
     },
     "execution_count": 30,
     "metadata": {},
     "output_type": "execute_result"
    }
   ],
   "source": [
    "df_client_01.columns"
   ]
  },
  {
   "cell_type": "markdown",
   "metadata": {},
   "source": [
    "### 1.3.2 Rename Columns"
   ]
  },
  {
   "cell_type": "code",
   "execution_count": 31,
   "metadata": {},
   "outputs": [
    {
     "data": {
      "text/plain": [
       "Index(['cliente_id', 'nombre_cliente'], dtype='object')"
      ]
     },
     "execution_count": 31,
     "metadata": {},
     "output_type": "execute_result"
    }
   ],
   "source": [
    "rename_columns(df_client_01)"
   ]
  },
  {
   "cell_type": "markdown",
   "metadata": {},
   "source": [
    "### 1.3.3 Data Dimensions"
   ]
  },
  {
   "cell_type": "code",
   "execution_count": 32,
   "metadata": {},
   "outputs": [
    {
     "name": "stdout",
     "output_type": "stream",
     "text": [
      "Number of Rows: 935362\n",
      "Number of Columns: 2\n"
     ]
    }
   ],
   "source": [
    "print(f'Number of Rows: {df_client_01.shape[0].compute()}')\n",
    "print(f'Number of Columns: {df_client_01.shape[1]}')"
   ]
  },
  {
   "cell_type": "markdown",
   "metadata": {},
   "source": [
    "### 1.3.4 Data Types"
   ]
  },
  {
   "cell_type": "code",
   "execution_count": 33,
   "metadata": {},
   "outputs": [
    {
     "data": {
      "text/plain": [
       "cliente_id        uint32\n",
       "nombre_cliente    object\n",
       "dtype: object"
      ]
     },
     "execution_count": 33,
     "metadata": {},
     "output_type": "execute_result"
    }
   ],
   "source": [
    "df_client_01.dtypes"
   ]
  },
  {
   "cell_type": "markdown",
   "metadata": {},
   "source": [
    "### 1.3.5 Missing Values"
   ]
  },
  {
   "cell_type": "code",
   "execution_count": 34,
   "metadata": {},
   "outputs": [
    {
     "data": {
      "text/plain": [
       "cliente_id        0\n",
       "nombre_cliente    0\n",
       "dtype: int64"
      ]
     },
     "execution_count": 34,
     "metadata": {},
     "output_type": "execute_result"
    }
   ],
   "source": [
    "df_client_01.isnull().sum().compute()"
   ]
  },
  {
   "cell_type": "markdown",
   "metadata": {},
   "source": [
    "### 1.3.6 ~~Fillout NA~~"
   ]
  },
  {
   "cell_type": "markdown",
   "metadata": {},
   "source": [
    "There is no NA values"
   ]
  },
  {
   "cell_type": "markdown",
   "metadata": {},
   "source": [
    "## 1.4 Town State"
   ]
  },
  {
   "cell_type": "code",
   "execution_count": 35,
   "metadata": {},
   "outputs": [],
   "source": [
    "df_town_state_01 = data_town_state_raw.copy()"
   ]
  },
  {
   "cell_type": "markdown",
   "metadata": {},
   "source": [
    "### 1.4.1 Columns"
   ]
  },
  {
   "cell_type": "code",
   "execution_count": 30,
   "metadata": {},
   "outputs": [
    {
     "data": {
      "text/plain": [
       "Index(['Cliente_ID', 'NombreCliente'], dtype='object')"
      ]
     },
     "execution_count": 30,
     "metadata": {},
     "output_type": "execute_result"
    }
   ],
   "source": [
    "df_town_state_01.columns"
   ]
  },
  {
   "cell_type": "markdown",
   "metadata": {},
   "source": [
    "### 1.4.2 Rename Columns"
   ]
  },
  {
   "cell_type": "code",
   "execution_count": 36,
   "metadata": {},
   "outputs": [
    {
     "data": {
      "text/plain": [
       "Index(['agencia_id', 'town', 'state'], dtype='object')"
      ]
     },
     "execution_count": 36,
     "metadata": {},
     "output_type": "execute_result"
    }
   ],
   "source": [
    "rename_columns(df_town_state_01)"
   ]
  },
  {
   "cell_type": "markdown",
   "metadata": {},
   "source": [
    "### 1.4.3 Data Dimensions"
   ]
  },
  {
   "cell_type": "code",
   "execution_count": 37,
   "metadata": {},
   "outputs": [
    {
     "name": "stdout",
     "output_type": "stream",
     "text": [
      "Number of Rows: 790\n",
      "Number of Columns: 3\n"
     ]
    }
   ],
   "source": [
    "print(f'Number of Rows: {df_town_state_01.shape[0].compute()}')\n",
    "print(f'Number of Columns: {df_town_state_01.shape[1]}')"
   ]
  },
  {
   "cell_type": "markdown",
   "metadata": {},
   "source": [
    "### 1.4.4 Data Types"
   ]
  },
  {
   "cell_type": "code",
   "execution_count": 38,
   "metadata": {},
   "outputs": [
    {
     "data": {
      "text/plain": [
       "agencia_id    uint16\n",
       "town          object\n",
       "state         object\n",
       "dtype: object"
      ]
     },
     "execution_count": 38,
     "metadata": {},
     "output_type": "execute_result"
    }
   ],
   "source": [
    "df_town_state_01.dtypes"
   ]
  },
  {
   "cell_type": "markdown",
   "metadata": {},
   "source": [
    "### 1.4.5 Missing Values"
   ]
  },
  {
   "cell_type": "code",
   "execution_count": 76,
   "metadata": {},
   "outputs": [
    {
     "data": {
      "text/plain": [
       "agencia_id    0\n",
       "town          0\n",
       "state         0\n",
       "dtype: int64"
      ]
     },
     "execution_count": 76,
     "metadata": {},
     "output_type": "execute_result"
    }
   ],
   "source": [
    "df_town_state_01.isnull().sum().compute()"
   ]
  },
  {
   "cell_type": "markdown",
   "metadata": {},
   "source": [
    "### 1.4.6 ~~Fillout NA~~"
   ]
  },
  {
   "cell_type": "markdown",
   "metadata": {},
   "source": [
    "There is no NA values"
   ]
  },
  {
   "cell_type": "markdown",
   "metadata": {},
   "source": [
    "# 2.0 FEATURE ENGINEERING"
   ]
  },
  {
   "cell_type": "code",
   "execution_count": 562,
   "metadata": {},
   "outputs": [],
   "source": [
    "df_train_02 = df_train_01.copy()\n",
    "df_producto_02 = df_producto_01.copy()\n",
    "df_cliente_02 = df_cliente_01.copy()\n",
    "df_town_state_02 = df_town_state_01.copy()"
   ]
  },
  {
   "cell_type": "markdown",
   "metadata": {},
   "source": [
    "## 2.1 Product"
   ]
  },
  {
   "cell_type": "code",
   "execution_count": 563,
   "metadata": {},
   "outputs": [],
   "source": [
    "df_producto_02 = df_producto_02.drop_duplicates(subset=['producto_id'])"
   ]
  },
  {
   "cell_type": "code",
   "execution_count": 564,
   "metadata": {},
   "outputs": [],
   "source": [
    "## Weigh\n",
    "#### Regex weight\n",
    "df_producto_02['weight'] = df_producto_02['nombre_producto'].str.extract(r'(\\d+)\\s?(kg|Kg|KG|g|G)')[0]\n",
    "#### Regex unit of measure: weight\n",
    "df_producto_02['weight_unit'] = df_producto_02['nombre_producto'].str.extract(r'(\\d+)\\s?(kg|Kg|KG|g|G)')[1]\n",
    "#### List of index that the weight need to be correct\n",
    "weight_kg_id = list(df_producto_02['producto_id'][(~df_producto_02['weight'].isnull()) & (df_producto_02['weight'].str.startswith('0'))].compute())\n",
    "#### Convert the weight to float\n",
    "df_producto_02['weight'] = df_producto_02['weight'].astype('float')\n",
    "#### DataFrame with all the records that don't need to be correct\n",
    "df_weight_01 = df_producto_02[~df_producto_02['producto_id'].isin(weight_kg_id)]\n",
    "#### DataFrame with all the records that need to be correct\n",
    "df_weight_02 = df_producto_02[df_producto_02['producto_id'].isin(weight_kg_id)]\n",
    "#### Weight correct\n",
    "df_weight_02['weight'] = df_weight_02['weight']/10\n",
    "#### Concatenate both dataframes into one\n",
    "df_producto_02 = dd.concat([df_weight_01, df_weight_02], axis=0)\n",
    "#### delete both dataframe that was used\n",
    "del df_weight_01, df_weight_02\n",
    "\n",
    "#### dict to mapping the unit of measure\n",
    "weight_mapping = {\n",
    "    'kg': 1000,\n",
    "    'Kg': 1000,\n",
    "    'KG': 1000,\n",
    "    'g': 1,\n",
    "    'G': 1\n",
    "}\n",
    "\n",
    "#### Adjust to the same scale (kg and g)\n",
    "df_producto_02['weight_g'] = df_producto_02['weight'] * df_producto_02['weight_unit'].map(weight_mapping)\n",
    "\n",
    "## Volume\n",
    "#### Regex volume\n",
    "df_producto_02['volume'] = df_producto_02['nombre_producto'].str.extract(r'(\\s?\\d+\\s?(l|L|ml|mL|ML)\\s)')[0]\n",
    "#### Getting only the number of volume\n",
    "volume = df_producto_02['volume'].str.extract(r'(\\d+)')\n",
    "#### Convert to float and rename\n",
    "volume = volume.astype('float').rename(columns={0:'volume_ml'})\n",
    "#### Concatenate both dataframes into one\n",
    "df_producto_02 = dd.concat([df_producto_02, volume], axis=1)\n",
    "#### delete dataframe that was used\n",
    "del volume\n",
    "\n",
    "## Pieces\n",
    "#### regex pieces (e.g.: 6p)\n",
    "df_producto_02['pieces_p'] =  df_producto_02['nombre_producto'].str.extract('(\\d+)p', expand=False).astype('float')\n",
    "df_producto_02['pieces_p'] = df_producto_02['pieces_p'].fillna(.0)\n",
    "#### regex pieces (e.g.: 6P)\n",
    "df_producto_02['pieces_P'] =  df_producto_02['nombre_producto'].str.extract('(\\d+)P', expand=False).astype('float')\n",
    "df_producto_02['pieces_P'] = df_producto_02['pieces_P'].fillna(.0)\n",
    "#### regex pieces (e.g.: 3X10)\n",
    "df_producto_02['pieces_X'] =  df_producto_02['nombre_producto'].str.extract('(\\d+)X', expand=False).astype('float')\n",
    "df_producto_02['pieces_X'] = df_producto_02['pieces_X'].fillna(.0)\n",
    "#### Sum the possibles pieces\n",
    "df_producto_02['pieces'] = df_producto_02['pieces_p'] + df_producto_02['pieces_P'] + df_producto_02['pieces_X']\n",
    "\n",
    "#### regex slices (e.g.: 28Reb)\n",
    "df_producto_02['slices'] =  df_producto_02['nombre_producto'].str.extract('(\\d+)Reb', expand=False).astype('float')\n",
    "\n",
    "#### regex Brands (e.g.: CU LON)\n",
    "brand = df_producto_02['nombre_producto'].str.extract('.\\w\\s(\\D+) \\d+$').rename(columns={0:'brand'})\n",
    "#### Concatenate both dataframes into one\n",
    "df_producto_02 = dd.concat([df_producto_02, brand], axis=1)\n",
    "#### Fill the Products that was not possible to determine the brand\n",
    "df_producto_02['brand'] = df_producto_02['brand'].fillna('NO_BRAND')\n",
    "#### delete dataframe that was used\n",
    "del brand\n",
    "\n",
    "#### DataFrame Columns Filtering\n",
    "df_producto_02 = df_producto_02[['producto_id', 'weight_g', 'volume_ml', 'pieces', 'slices', 'brand']]"
   ]
  },
  {
   "cell_type": "code",
   "execution_count": 565,
   "metadata": {},
   "outputs": [
    {
     "data": {
      "text/html": [
       "<div>\n",
       "<style scoped>\n",
       "    .dataframe tbody tr th:only-of-type {\n",
       "        vertical-align: middle;\n",
       "    }\n",
       "\n",
       "    .dataframe tbody tr th {\n",
       "        vertical-align: top;\n",
       "    }\n",
       "\n",
       "    .dataframe thead th {\n",
       "        text-align: right;\n",
       "    }\n",
       "</style>\n",
       "<table border=\"1\" class=\"dataframe\">\n",
       "  <thead>\n",
       "    <tr style=\"text-align: right;\">\n",
       "      <th></th>\n",
       "      <th>producto_id</th>\n",
       "      <th>weight_g</th>\n",
       "      <th>volume_ml</th>\n",
       "      <th>pieces</th>\n",
       "      <th>slices</th>\n",
       "      <th>brand</th>\n",
       "    </tr>\n",
       "  </thead>\n",
       "  <tbody>\n",
       "    <tr>\n",
       "      <th>0</th>\n",
       "      <td>0</td>\n",
       "      <td>NaN</td>\n",
       "      <td>NaN</td>\n",
       "      <td>0.0</td>\n",
       "      <td>NaN</td>\n",
       "      <td>IDENTIFICADO</td>\n",
       "    </tr>\n",
       "    <tr>\n",
       "      <th>1</th>\n",
       "      <td>9</td>\n",
       "      <td>750.0</td>\n",
       "      <td>NaN</td>\n",
       "      <td>0.0</td>\n",
       "      <td>NaN</td>\n",
       "      <td>NES</td>\n",
       "    </tr>\n",
       "    <tr>\n",
       "      <th>2</th>\n",
       "      <td>41</td>\n",
       "      <td>480.0</td>\n",
       "      <td>NaN</td>\n",
       "      <td>6.0</td>\n",
       "      <td>NaN</td>\n",
       "      <td>BIM</td>\n",
       "    </tr>\n",
       "    <tr>\n",
       "      <th>3</th>\n",
       "      <td>53</td>\n",
       "      <td>170.0</td>\n",
       "      <td>NaN</td>\n",
       "      <td>0.0</td>\n",
       "      <td>NaN</td>\n",
       "      <td>CU LON</td>\n",
       "    </tr>\n",
       "    <tr>\n",
       "      <th>4</th>\n",
       "      <td>72</td>\n",
       "      <td>45.0</td>\n",
       "      <td>NaN</td>\n",
       "      <td>4.0</td>\n",
       "      <td>NaN</td>\n",
       "      <td>TR</td>\n",
       "    </tr>\n",
       "  </tbody>\n",
       "</table>\n",
       "</div>"
      ],
      "text/plain": [
       "   producto_id  weight_g  volume_ml  pieces  slices         brand\n",
       "0            0       NaN        NaN     0.0     NaN  IDENTIFICADO\n",
       "1            9     750.0        NaN     0.0     NaN           NES\n",
       "2           41     480.0        NaN     6.0     NaN           BIM\n",
       "3           53     170.0        NaN     0.0     NaN        CU LON\n",
       "4           72      45.0        NaN     4.0     NaN            TR"
      ]
     },
     "execution_count": 565,
     "metadata": {},
     "output_type": "execute_result"
    }
   ],
   "source": [
    "df_producto_02.head()"
   ]
  },
  {
   "cell_type": "markdown",
   "metadata": {},
   "source": [
    "## Client"
   ]
  },
  {
   "cell_type": "code",
   "execution_count": 566,
   "metadata": {},
   "outputs": [],
   "source": [
    "df_cliente_02 = df_cliente_02.drop_duplicates(subset=['cliente_id'])"
   ]
  },
  {
   "cell_type": "code",
   "execution_count": 567,
   "metadata": {},
   "outputs": [
    {
     "data": {
      "text/html": [
       "<div>\n",
       "<style scoped>\n",
       "    .dataframe tbody tr th:only-of-type {\n",
       "        vertical-align: middle;\n",
       "    }\n",
       "\n",
       "    .dataframe tbody tr th {\n",
       "        vertical-align: top;\n",
       "    }\n",
       "\n",
       "    .dataframe thead th {\n",
       "        text-align: right;\n",
       "    }\n",
       "</style>\n",
       "<table border=\"1\" class=\"dataframe\">\n",
       "  <thead>\n",
       "    <tr style=\"text-align: right;\">\n",
       "      <th></th>\n",
       "      <th>cliente_id</th>\n",
       "      <th>nombre_cliente</th>\n",
       "    </tr>\n",
       "  </thead>\n",
       "  <tbody>\n",
       "    <tr>\n",
       "      <th>0</th>\n",
       "      <td>0</td>\n",
       "      <td>SIN NOMBRE</td>\n",
       "    </tr>\n",
       "    <tr>\n",
       "      <th>1</th>\n",
       "      <td>1</td>\n",
       "      <td>OXXO XINANTECATL</td>\n",
       "    </tr>\n",
       "    <tr>\n",
       "      <th>2</th>\n",
       "      <td>2</td>\n",
       "      <td>SIN NOMBRE</td>\n",
       "    </tr>\n",
       "    <tr>\n",
       "      <th>3</th>\n",
       "      <td>3</td>\n",
       "      <td>EL MORENO</td>\n",
       "    </tr>\n",
       "    <tr>\n",
       "      <th>4</th>\n",
       "      <td>4</td>\n",
       "      <td>SDN SER  DE ALIM  CUERPO SA CIA  DE INT</td>\n",
       "    </tr>\n",
       "    <tr>\n",
       "      <th>6</th>\n",
       "      <td>5</td>\n",
       "      <td>LA VAQUITA</td>\n",
       "    </tr>\n",
       "    <tr>\n",
       "      <th>7</th>\n",
       "      <td>6</td>\n",
       "      <td>LUPITA</td>\n",
       "    </tr>\n",
       "    <tr>\n",
       "      <th>8</th>\n",
       "      <td>7</td>\n",
       "      <td>I M EL GUERO</td>\n",
       "    </tr>\n",
       "    <tr>\n",
       "      <th>9</th>\n",
       "      <td>8</td>\n",
       "      <td>MINI SUPER LOS LUPES</td>\n",
       "    </tr>\n",
       "    <tr>\n",
       "      <th>10</th>\n",
       "      <td>9</td>\n",
       "      <td>SUPER KOMPRAS MICRO COLON</td>\n",
       "    </tr>\n",
       "    <tr>\n",
       "      <th>11</th>\n",
       "      <td>10</td>\n",
       "      <td>LONJA MERCANTIL DE TODO</td>\n",
       "    </tr>\n",
       "    <tr>\n",
       "      <th>12</th>\n",
       "      <td>11</td>\n",
       "      <td>FARMACIA NICOLAS SAN JUAN</td>\n",
       "    </tr>\n",
       "    <tr>\n",
       "      <th>13</th>\n",
       "      <td>12</td>\n",
       "      <td>PAPELERIA CATALA</td>\n",
       "    </tr>\n",
       "    <tr>\n",
       "      <th>14</th>\n",
       "      <td>13</td>\n",
       "      <td>ELENA</td>\n",
       "    </tr>\n",
       "    <tr>\n",
       "      <th>15</th>\n",
       "      <td>14</td>\n",
       "      <td>CASA TRINO</td>\n",
       "    </tr>\n",
       "    <tr>\n",
       "      <th>16</th>\n",
       "      <td>15</td>\n",
       "      <td>FMA035947 BIMBO SA DE CV</td>\n",
       "    </tr>\n",
       "    <tr>\n",
       "      <th>17</th>\n",
       "      <td>16</td>\n",
       "      <td>JOYS</td>\n",
       "    </tr>\n",
       "    <tr>\n",
       "      <th>18</th>\n",
       "      <td>17</td>\n",
       "      <td>DE MARCO</td>\n",
       "    </tr>\n",
       "    <tr>\n",
       "      <th>19</th>\n",
       "      <td>18</td>\n",
       "      <td>LUPES II</td>\n",
       "    </tr>\n",
       "    <tr>\n",
       "      <th>20</th>\n",
       "      <td>19</td>\n",
       "      <td>LA TIENDITA</td>\n",
       "    </tr>\n",
       "  </tbody>\n",
       "</table>\n",
       "</div>"
      ],
      "text/plain": [
       "    cliente_id                           nombre_cliente\n",
       "0            0                               SIN NOMBRE\n",
       "1            1                         OXXO XINANTECATL\n",
       "2            2                               SIN NOMBRE\n",
       "3            3                                EL MORENO\n",
       "4            4  SDN SER  DE ALIM  CUERPO SA CIA  DE INT\n",
       "6            5                               LA VAQUITA\n",
       "7            6                                   LUPITA\n",
       "8            7                             I M EL GUERO\n",
       "9            8                     MINI SUPER LOS LUPES\n",
       "10           9                SUPER KOMPRAS MICRO COLON\n",
       "11          10                  LONJA MERCANTIL DE TODO\n",
       "12          11                FARMACIA NICOLAS SAN JUAN\n",
       "13          12                         PAPELERIA CATALA\n",
       "14          13                                    ELENA\n",
       "15          14                               CASA TRINO\n",
       "16          15                 FMA035947 BIMBO SA DE CV\n",
       "17          16                                     JOYS\n",
       "18          17                                 DE MARCO\n",
       "19          18                                 LUPES II\n",
       "20          19                              LA TIENDITA"
      ]
     },
     "execution_count": 567,
     "metadata": {},
     "output_type": "execute_result"
    }
   ],
   "source": [
    "df_cliente_02.head(20)"
   ]
  },
  {
   "cell_type": "code",
   "execution_count": null,
   "metadata": {},
   "outputs": [],
   "source": [
    "### Cliente por rota\n",
    "## Popularida do produto\n",
    "\n",
    "## https://github.com/seitin/bimbo/blob/master/initial_ml.ipynb\n",
    "\n",
    "## lag\n",
    "## https://github.com/siskaj/Bimbo/blob/master/bimbo_test.ipynb"
   ]
  }
 ],
 "metadata": {
  "kernelspec": {
   "display_name": "Python 3",
   "language": "python",
   "name": "python3"
  },
  "language_info": {
   "codemirror_mode": {
    "name": "ipython",
    "version": 3
   },
   "file_extension": ".py",
   "mimetype": "text/x-python",
   "name": "python",
   "nbconvert_exporter": "python",
   "pygments_lexer": "ipython3",
   "version": "3.8.3"
  }
 },
 "nbformat": 4,
 "nbformat_minor": 4
}
