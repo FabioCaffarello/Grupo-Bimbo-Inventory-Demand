{
 "cells": [
  {
   "cell_type": "markdown",
   "metadata": {},
   "source": [
    "# 0.0 IMPORTS"
   ]
  },
  {
   "cell_type": "markdown",
   "metadata": {},
   "source": [
    "## 0.1 Libraries"
   ]
  },
  {
   "cell_type": "code",
   "execution_count": 1,
   "metadata": {},
   "outputs": [],
   "source": [
    "import os\n",
    "import re\n",
    "import glob\n",
    "import pandas as pd"
   ]
  },
  {
   "cell_type": "markdown",
   "metadata": {},
   "source": [
    "# 1.0 Conver to Feather Data"
   ]
  },
  {
   "cell_type": "code",
   "execution_count": 24,
   "metadata": {},
   "outputs": [],
   "source": [
    "data_dir = '../00-Data/csv_data/'\n",
    "def csv_convert_feather(data_dir):\n",
    "    data_dir_glob = data_dir + \"*.csv\"\n",
    "    \n",
    "    # creates the directory to save the converted files\n",
    "    if not os.path.exists('../00-Data/feather_data'):\n",
    "        os.makedirs('../00-Data/feather_data')\n",
    "    \n",
    "    # iterate in each file of the directory that contains the files in .csv format and converts them to .feather\n",
    "    for file in glob.glob(data_dir_glob):\n",
    "        data = pd.read_csv(file)\n",
    "        data.to_feather('../00-Data/feather_data/' + re.findall('\\w+', file)[3] + '.feather')\n",
    "        \n",
    "csv_convert_feather(data_dir)"
   ]
  }
 ],
 "metadata": {
  "kernelspec": {
   "display_name": "Python 3",
   "language": "python",
   "name": "python3"
  },
  "language_info": {
   "codemirror_mode": {
    "name": "ipython",
    "version": 3
   },
   "file_extension": ".py",
   "mimetype": "text/x-python",
   "name": "python",
   "nbconvert_exporter": "python",
   "pygments_lexer": "ipython3",
   "version": "3.8.3"
  }
 },
 "nbformat": 4,
 "nbformat_minor": 4
}
