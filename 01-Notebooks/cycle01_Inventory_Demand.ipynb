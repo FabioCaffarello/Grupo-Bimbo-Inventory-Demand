{
 "cells": [
  {
   "cell_type": "markdown",
   "metadata": {},
   "source": [
    "# 0.0 IMPORTS"
   ]
  },
  {
   "cell_type": "markdown",
   "metadata": {},
   "source": [
    "## 01. Libraries"
   ]
  },
  {
   "cell_type": "code",
   "execution_count": 1,
   "metadata": {},
   "outputs": [],
   "source": [
    "import warnings\n",
    "import inflection\n",
    "import numpy as np\n",
    "\n",
    "import seaborn as sns\n",
    "import matplotlib.pyplot as plt\n",
    "\n",
    "import dask.dataframe as dd\n",
    "\n",
    "from dask.distributed import Client, progress"
   ]
  },
  {
   "cell_type": "code",
   "execution_count": 2,
   "metadata": {},
   "outputs": [],
   "source": [
    "# import datetime\n",
    "# import numpy as np\n",
    "# import scipy.stats  as ss\n",
    "\n",
    "# from IPython.display         import Image\n",
    "# from IPython.core.display    import HTML\n",
    "\n",
    "# import matplotlib.pyplot as plt\n",
    "# import seaborn as sns"
   ]
  },
  {
   "cell_type": "markdown",
   "metadata": {},
   "source": [
    "# 0.2 Notebook Config"
   ]
  },
  {
   "cell_type": "code",
   "execution_count": 3,
   "metadata": {},
   "outputs": [],
   "source": [
    "warnings.filterwarnings(\"ignore\")"
   ]
  },
  {
   "cell_type": "code",
   "execution_count": 4,
   "metadata": {},
   "outputs": [
    {
     "data": {
      "text/html": [
       "<table style=\"border: 2px solid white;\">\n",
       "<tr>\n",
       "<td style=\"vertical-align: top; border: 0px solid white\">\n",
       "<h3 style=\"text-align: left;\">Client</h3>\n",
       "<ul style=\"text-align: left; list-style: none; margin: 0; padding: 0;\">\n",
       "  <li><b>Scheduler: </b>tcp://127.0.0.1:53744</li>\n",
       "  <li><b>Dashboard: </b><a href='http://127.0.0.1:8787/status' target='_blank'>http://127.0.0.1:8787/status</a></li>\n",
       "</ul>\n",
       "</td>\n",
       "<td style=\"vertical-align: top; border: 0px solid white\">\n",
       "<h3 style=\"text-align: left;\">Cluster</h3>\n",
       "<ul style=\"text-align: left; list-style:none; margin: 0; padding: 0;\">\n",
       "  <li><b>Workers: </b>4</li>\n",
       "  <li><b>Cores: </b>12</li>\n",
       "  <li><b>Memory: </b>16.98 GB</li>\n",
       "</ul>\n",
       "</td>\n",
       "</tr>\n",
       "</table>"
      ],
      "text/plain": [
       "<Client: 'tcp://127.0.0.1:53744' processes=4 threads=12, memory=16.98 GB>"
      ]
     },
     "execution_count": 4,
     "metadata": {},
     "output_type": "execute_result"
    }
   ],
   "source": [
    "client = Client()\n",
    "client"
   ]
  },
  {
   "cell_type": "code",
   "execution_count": 5,
   "metadata": {},
   "outputs": [],
   "source": [
    "# def jupyter_settings():\n",
    "#     %matplotlib inline\n",
    "    \n",
    "#     plt.style.use('bmh')\n",
    "#     plt.rcParams['figure.figsize'] = [25, 12]\n",
    "#     plt.rcParams['font.size'] = 24\n",
    "    \n",
    "#     display( HTML('<style>.container { width:100% !important; }</style>'))\n",
    "    \n",
    "#     warnings.filterwarnings(\"ignore\")\n",
    "    \n",
    "#     sns.set()"
   ]
  },
  {
   "cell_type": "code",
   "execution_count": 6,
   "metadata": {},
   "outputs": [],
   "source": [
    "# seed = 42\n",
    "# np.random.seed(seed)\n",
    "\n",
    "# jupyter_settings()"
   ]
  },
  {
   "cell_type": "markdown",
   "metadata": {},
   "source": [
    "## 0.3 Helper Functions"
   ]
  },
  {
   "cell_type": "code",
   "execution_count": 7,
   "metadata": {},
   "outputs": [],
   "source": [
    "def rename_columns(df):\n",
    "    '''Transforms the names of the columns of a dataframe into the snakecase format\n",
    "    \n",
    "    Params\n",
    "    ------\n",
    "    df: Dataframe to have the columns converted\n",
    "    \n",
    "    Return\n",
    "    ------\n",
    "    Returns the renamed columns\n",
    "    \n",
    "    '''\n",
    "    # function to convert into snakecase format\n",
    "    snakecase = lambda col: inflection.underscore(col)\n",
    "    # mapping the function to convert into snakecase format with the dataframe columns\n",
    "    new_columns = list(map(snakecase, df.columns))\n",
    "    # rename the colums\n",
    "    df.columns = new_columns\n",
    "    return df.columns"
   ]
  },
  {
   "cell_type": "markdown",
   "metadata": {},
   "source": [
    "## 0.4 Load Data"
   ]
  },
  {
   "cell_type": "markdown",
   "metadata": {},
   "source": [
    "### 0.4.1 Load Raw Data"
   ]
  },
  {
   "cell_type": "markdown",
   "metadata": {},
   "source": [
    "#### 0.4.1.1 train"
   ]
  },
  {
   "cell_type": "code",
   "execution_count": 8,
   "metadata": {},
   "outputs": [],
   "source": [
    "types = {'Semana':np.uint8, 'Agencia_ID':np.uint16, 'Canal_ID':np.uint8,\n",
    "         'Ruta_SAK':np.uint16, 'Cliente_ID':np.uint32, 'Producto_ID':np.uint16,\n",
    "         'Venta_uni_hoy':np.uint16,'Venta_hoy':np.float64,'Dev_uni_proxima':np.uint16,\n",
    "         'Dev_proxima':np.float64, 'Demanda_uni_equil':np.float16}\n",
    "\n",
    "data_train_raw = dd.read_csv('../00-Data/csv_data/train.csv', usecols=types.keys(), dtype=types)"
   ]
  },
  {
   "cell_type": "markdown",
   "metadata": {},
   "source": [
    "#### 0.4.1.2 producto_tabla"
   ]
  },
  {
   "cell_type": "code",
   "execution_count": 9,
   "metadata": {},
   "outputs": [],
   "source": [
    "types = {'Producto_ID':np.uint16,\n",
    "         'NombreProducto':'object'}\n",
    "\n",
    "\n",
    "data_producto_raw = dd.read_csv('../00-Data/csv_data/producto_tabla.csv', usecols=types.keys(), dtype=types)"
   ]
  },
  {
   "cell_type": "markdown",
   "metadata": {},
   "source": [
    "#### 0.4.1.3 cliente_tabla"
   ]
  },
  {
   "cell_type": "code",
   "execution_count": 10,
   "metadata": {},
   "outputs": [],
   "source": [
    "types = {'Cliente_ID':np.uint32,\n",
    "         'NombreCliente':'object'}\n",
    "\n",
    "\n",
    "data_client_raw = dd.read_csv('../00-Data/csv_data/cliente_tabla.csv', usecols=types.keys(), dtype=types)"
   ]
  },
  {
   "cell_type": "markdown",
   "metadata": {},
   "source": [
    "#### 0.4.1.4 town_state"
   ]
  },
  {
   "cell_type": "code",
   "execution_count": 11,
   "metadata": {},
   "outputs": [],
   "source": [
    "types = {'Agencia_ID':np.uint16,\n",
    "         'Town':'object',\n",
    "         'State':'object'}\n",
    "\n",
    "\n",
    "data_town_state_raw = dd.read_csv('../00-Data/csv_data/town_state.csv', usecols=types.keys(), dtype=types)"
   ]
  },
  {
   "cell_type": "code",
   "execution_count": 12,
   "metadata": {},
   "outputs": [],
   "source": [
    "# data_train_raw = dd.read_csv('../00-Data/csv_data/train.csv')\n",
    "# data_producto_raw = dd.read_csv('../00-Data/csv_data/producto_tabla.csv')\n",
    "# data_cliente_raw = dd.read_csv('../00-Data/csv_data/cliente_tabla.csv')\n",
    "# data_town_state_raw = dd.read_csv('../00-Data/csv_data/town_state.csv')"
   ]
  },
  {
   "cell_type": "markdown",
   "metadata": {},
   "source": [
    "### 0.4.2 Merge Dataset"
   ]
  },
  {
   "cell_type": "code",
   "execution_count": 13,
   "metadata": {},
   "outputs": [],
   "source": [
    "# data_raw = dd.merge(data_train_raw, data_producto_raw, how='left', on='Producto_ID')\n",
    "# data_raw = dd.merge(data_raw, data_cliente_raw, how='left', on='Cliente_ID')\n",
    "# data_raw = dd.merge(data_raw, data_town_state_raw, how='left', on='Agencia_ID')\n",
    "# data_raw = data_raw.drop(['Producto_ID', 'Cliente_ID', 'Agencia_ID'], axis=1)\n",
    "# data_raw.head()"
   ]
  },
  {
   "cell_type": "markdown",
   "metadata": {},
   "source": [
    "# 1.0 DATA DESCRIPTION"
   ]
  },
  {
   "cell_type": "markdown",
   "metadata": {},
   "source": [
    "## 1.1 Training"
   ]
  },
  {
   "cell_type": "code",
   "execution_count": 14,
   "metadata": {},
   "outputs": [],
   "source": [
    "df_train_01 = data_train_raw.copy()"
   ]
  },
  {
   "cell_type": "markdown",
   "metadata": {},
   "source": [
    "### 1.1.1 Columns"
   ]
  },
  {
   "cell_type": "code",
   "execution_count": 15,
   "metadata": {},
   "outputs": [
    {
     "data": {
      "text/plain": [
       "Index(['Semana', 'Agencia_ID', 'Canal_ID', 'Ruta_SAK', 'Cliente_ID',\n",
       "       'Producto_ID', 'Venta_uni_hoy', 'Venta_hoy', 'Dev_uni_proxima',\n",
       "       'Dev_proxima', 'Demanda_uni_equil'],\n",
       "      dtype='object')"
      ]
     },
     "execution_count": 15,
     "metadata": {},
     "output_type": "execute_result"
    }
   ],
   "source": [
    "df_train_01.columns"
   ]
  },
  {
   "cell_type": "markdown",
   "metadata": {},
   "source": [
    "### 1.1.2 Rename Columns"
   ]
  },
  {
   "cell_type": "code",
   "execution_count": 16,
   "metadata": {},
   "outputs": [
    {
     "data": {
      "text/plain": [
       "Index(['semana', 'agencia_id', 'canal_id', 'ruta_sak', 'cliente_id',\n",
       "       'producto_id', 'venta_uni_hoy', 'venta_hoy', 'dev_uni_proxima',\n",
       "       'dev_proxima', 'demanda_uni_equil'],\n",
       "      dtype='object')"
      ]
     },
     "execution_count": 16,
     "metadata": {},
     "output_type": "execute_result"
    }
   ],
   "source": [
    "rename_columns(df_train_01)"
   ]
  },
  {
   "cell_type": "markdown",
   "metadata": {},
   "source": [
    "### 1.1.3 Data Dimensions"
   ]
  },
  {
   "cell_type": "code",
   "execution_count": 17,
   "metadata": {},
   "outputs": [
    {
     "name": "stdout",
     "output_type": "stream",
     "text": [
      "Number of Rows: 74180464\n",
      "Number of Columns: 11\n"
     ]
    }
   ],
   "source": [
    "print(f'Number of Rows: {df_train_01.shape[0].compute()}')\n",
    "print(f'Number of Columns: {df_train_01.shape[1]}')"
   ]
  },
  {
   "cell_type": "markdown",
   "metadata": {},
   "source": [
    "### 1.1.4 Data Types"
   ]
  },
  {
   "cell_type": "code",
   "execution_count": 18,
   "metadata": {},
   "outputs": [
    {
     "data": {
      "text/plain": [
       "semana                 uint8\n",
       "agencia_id            uint16\n",
       "canal_id               uint8\n",
       "ruta_sak              uint16\n",
       "cliente_id            uint32\n",
       "producto_id           uint16\n",
       "venta_uni_hoy         uint16\n",
       "venta_hoy            float64\n",
       "dev_uni_proxima       uint16\n",
       "dev_proxima          float64\n",
       "demanda_uni_equil    float16\n",
       "dtype: object"
      ]
     },
     "execution_count": 18,
     "metadata": {},
     "output_type": "execute_result"
    }
   ],
   "source": [
    "df_train_01.dtypes"
   ]
  },
  {
   "cell_type": "markdown",
   "metadata": {},
   "source": [
    "### 1.1.5 Missing Values"
   ]
  },
  {
   "cell_type": "code",
   "execution_count": 19,
   "metadata": {},
   "outputs": [
    {
     "name": "stdout",
     "output_type": "stream",
     "text": [
      "Wall time: 11.6 s\n"
     ]
    },
    {
     "data": {
      "text/plain": [
       "semana               0\n",
       "agencia_id           0\n",
       "canal_id             0\n",
       "ruta_sak             0\n",
       "cliente_id           0\n",
       "producto_id          0\n",
       "venta_uni_hoy        0\n",
       "venta_hoy            0\n",
       "dev_uni_proxima      0\n",
       "dev_proxima          0\n",
       "demanda_uni_equil    0\n",
       "dtype: int64"
      ]
     },
     "execution_count": 19,
     "metadata": {},
     "output_type": "execute_result"
    }
   ],
   "source": [
    "%%time\n",
    "df_train_01.isnull().sum().compute()"
   ]
  },
  {
   "cell_type": "markdown",
   "metadata": {},
   "source": [
    "### 1.1.6 ~~Fillout NA~~"
   ]
  },
  {
   "cell_type": "markdown",
   "metadata": {},
   "source": [
    "There is no NA values"
   ]
  },
  {
   "cell_type": "markdown",
   "metadata": {},
   "source": [
    "## 1.6 Descriptive Statistical"
   ]
  },
  {
   "cell_type": "code",
   "execution_count": 20,
   "metadata": {},
   "outputs": [],
   "source": [
    "num_attributes = df_train_01.select_dtypes(exclude=['object'])"
   ]
  },
  {
   "cell_type": "code",
   "execution_count": 21,
   "metadata": {},
   "outputs": [
    {
     "data": {
      "text/html": [
       "<div>\n",
       "<style scoped>\n",
       "    .dataframe tbody tr th:only-of-type {\n",
       "        vertical-align: middle;\n",
       "    }\n",
       "\n",
       "    .dataframe tbody tr th {\n",
       "        vertical-align: top;\n",
       "    }\n",
       "\n",
       "    .dataframe thead th {\n",
       "        text-align: right;\n",
       "    }\n",
       "</style>\n",
       "<table border=\"1\" class=\"dataframe\">\n",
       "  <thead>\n",
       "    <tr style=\"text-align: right;\">\n",
       "      <th></th>\n",
       "      <th>Min</th>\n",
       "      <th>Max</th>\n",
       "      <th>Range</th>\n",
       "      <th>Mean</th>\n",
       "      <th>Std</th>\n",
       "      <th>Median</th>\n",
       "      <th>IQR</th>\n",
       "      <th>25%</th>\n",
       "      <th>75%</th>\n",
       "      <th>Relative Std</th>\n",
       "    </tr>\n",
       "  </thead>\n",
       "  <tbody>\n",
       "    <tr>\n",
       "      <th>semana</th>\n",
       "      <td>3.0</td>\n",
       "      <td>9.000000e+00</td>\n",
       "      <td>6.000000e+00</td>\n",
       "      <td>5.950021e+00</td>\n",
       "      <td>2.013175e+00</td>\n",
       "      <td>6.0</td>\n",
       "      <td>4.00</td>\n",
       "      <td>4.00</td>\n",
       "      <td>8.00</td>\n",
       "      <td>0.338348</td>\n",
       "    </tr>\n",
       "    <tr>\n",
       "      <th>agencia_id</th>\n",
       "      <td>1110.0</td>\n",
       "      <td>2.575900e+04</td>\n",
       "      <td>2.464900e+04</td>\n",
       "      <td>2.536509e+03</td>\n",
       "      <td>4.075124e+03</td>\n",
       "      <td>1622.0</td>\n",
       "      <td>720.00</td>\n",
       "      <td>1334.00</td>\n",
       "      <td>2054.00</td>\n",
       "      <td>1.606588</td>\n",
       "    </tr>\n",
       "    <tr>\n",
       "      <th>canal_id</th>\n",
       "      <td>1.0</td>\n",
       "      <td>1.100000e+01</td>\n",
       "      <td>1.000000e+01</td>\n",
       "      <td>1.383181e+00</td>\n",
       "      <td>1.463266e+00</td>\n",
       "      <td>1.0</td>\n",
       "      <td>0.00</td>\n",
       "      <td>1.00</td>\n",
       "      <td>1.00</td>\n",
       "      <td>1.057899</td>\n",
       "    </tr>\n",
       "    <tr>\n",
       "      <th>ruta_sak</th>\n",
       "      <td>1.0</td>\n",
       "      <td>9.991000e+03</td>\n",
       "      <td>9.990000e+03</td>\n",
       "      <td>2.114855e+03</td>\n",
       "      <td>1.487744e+03</td>\n",
       "      <td>1612.0</td>\n",
       "      <td>1690.00</td>\n",
       "      <td>1213.00</td>\n",
       "      <td>2903.00</td>\n",
       "      <td>0.703473</td>\n",
       "    </tr>\n",
       "    <tr>\n",
       "      <th>cliente_id</th>\n",
       "      <td>26.0</td>\n",
       "      <td>2.015152e+09</td>\n",
       "      <td>2.015152e+09</td>\n",
       "      <td>1.802119e+06</td>\n",
       "      <td>2.349577e+06</td>\n",
       "      <td>1464178.0</td>\n",
       "      <td>1989265.00</td>\n",
       "      <td>482299.00</td>\n",
       "      <td>2471564.00</td>\n",
       "      <td>1.303786</td>\n",
       "    </tr>\n",
       "    <tr>\n",
       "      <th>producto_id</th>\n",
       "      <td>41.0</td>\n",
       "      <td>4.999700e+04</td>\n",
       "      <td>4.995600e+04</td>\n",
       "      <td>2.084081e+04</td>\n",
       "      <td>1.866392e+04</td>\n",
       "      <td>35113.0</td>\n",
       "      <td>40965.00</td>\n",
       "      <td>2233.00</td>\n",
       "      <td>43198.00</td>\n",
       "      <td>0.895547</td>\n",
       "    </tr>\n",
       "    <tr>\n",
       "      <th>venta_uni_hoy</th>\n",
       "      <td>0.0</td>\n",
       "      <td>7.200000e+03</td>\n",
       "      <td>7.200000e+03</td>\n",
       "      <td>7.310163e+00</td>\n",
       "      <td>2.196734e+01</td>\n",
       "      <td>4.0</td>\n",
       "      <td>6.00</td>\n",
       "      <td>2.00</td>\n",
       "      <td>8.00</td>\n",
       "      <td>3.005040</td>\n",
       "    </tr>\n",
       "    <tr>\n",
       "      <th>venta_hoy</th>\n",
       "      <td>0.0</td>\n",
       "      <td>6.473600e+05</td>\n",
       "      <td>6.473600e+05</td>\n",
       "      <td>6.854452e+01</td>\n",
       "      <td>3.389795e+02</td>\n",
       "      <td>34.5</td>\n",
       "      <td>45.31</td>\n",
       "      <td>18.86</td>\n",
       "      <td>64.17</td>\n",
       "      <td>4.945392</td>\n",
       "    </tr>\n",
       "    <tr>\n",
       "      <th>dev_uni_proxima</th>\n",
       "      <td>0.0</td>\n",
       "      <td>5.339200e+04</td>\n",
       "      <td>5.339200e+04</td>\n",
       "      <td>1.276073e-01</td>\n",
       "      <td>7.465950e+00</td>\n",
       "      <td>0.0</td>\n",
       "      <td>0.00</td>\n",
       "      <td>0.00</td>\n",
       "      <td>0.00</td>\n",
       "      <td>58.507253</td>\n",
       "    </tr>\n",
       "    <tr>\n",
       "      <th>dev_proxima</th>\n",
       "      <td>0.0</td>\n",
       "      <td>1.307600e+05</td>\n",
       "      <td>1.307600e+05</td>\n",
       "      <td>1.243248e+00</td>\n",
       "      <td>3.921552e+01</td>\n",
       "      <td>0.0</td>\n",
       "      <td>0.00</td>\n",
       "      <td>0.00</td>\n",
       "      <td>0.00</td>\n",
       "      <td>31.542798</td>\n",
       "    </tr>\n",
       "    <tr>\n",
       "      <th>demanda_uni_equil</th>\n",
       "      <td>0.0</td>\n",
       "      <td>5.000000e+03</td>\n",
       "      <td>5.000000e+03</td>\n",
       "      <td>inf</td>\n",
       "      <td>2.177121e+01</td>\n",
       "      <td>4.0</td>\n",
       "      <td>6.00</td>\n",
       "      <td>2.00</td>\n",
       "      <td>8.00</td>\n",
       "      <td>0.000000</td>\n",
       "    </tr>\n",
       "  </tbody>\n",
       "</table>\n",
       "</div>"
      ],
      "text/plain": [
       "                      Min           Max         Range          Mean  \\\n",
       "semana                3.0  9.000000e+00  6.000000e+00  5.950021e+00   \n",
       "agencia_id         1110.0  2.575900e+04  2.464900e+04  2.536509e+03   \n",
       "canal_id              1.0  1.100000e+01  1.000000e+01  1.383181e+00   \n",
       "ruta_sak              1.0  9.991000e+03  9.990000e+03  2.114855e+03   \n",
       "cliente_id           26.0  2.015152e+09  2.015152e+09  1.802119e+06   \n",
       "producto_id          41.0  4.999700e+04  4.995600e+04  2.084081e+04   \n",
       "venta_uni_hoy         0.0  7.200000e+03  7.200000e+03  7.310163e+00   \n",
       "venta_hoy             0.0  6.473600e+05  6.473600e+05  6.854452e+01   \n",
       "dev_uni_proxima       0.0  5.339200e+04  5.339200e+04  1.276073e-01   \n",
       "dev_proxima           0.0  1.307600e+05  1.307600e+05  1.243248e+00   \n",
       "demanda_uni_equil     0.0  5.000000e+03  5.000000e+03           inf   \n",
       "\n",
       "                            Std     Median         IQR        25%         75%  \\\n",
       "semana             2.013175e+00        6.0        4.00       4.00        8.00   \n",
       "agencia_id         4.075124e+03     1622.0      720.00    1334.00     2054.00   \n",
       "canal_id           1.463266e+00        1.0        0.00       1.00        1.00   \n",
       "ruta_sak           1.487744e+03     1612.0     1690.00    1213.00     2903.00   \n",
       "cliente_id         2.349577e+06  1464178.0  1989265.00  482299.00  2471564.00   \n",
       "producto_id        1.866392e+04    35113.0    40965.00    2233.00    43198.00   \n",
       "venta_uni_hoy      2.196734e+01        4.0        6.00       2.00        8.00   \n",
       "venta_hoy          3.389795e+02       34.5       45.31      18.86       64.17   \n",
       "dev_uni_proxima    7.465950e+00        0.0        0.00       0.00        0.00   \n",
       "dev_proxima        3.921552e+01        0.0        0.00       0.00        0.00   \n",
       "demanda_uni_equil  2.177121e+01        4.0        6.00       2.00        8.00   \n",
       "\n",
       "                   Relative Std  \n",
       "semana                 0.338348  \n",
       "agencia_id             1.606588  \n",
       "canal_id               1.057899  \n",
       "ruta_sak               0.703473  \n",
       "cliente_id             1.303786  \n",
       "producto_id            0.895547  \n",
       "venta_uni_hoy          3.005040  \n",
       "venta_hoy              4.945392  \n",
       "dev_uni_proxima       58.507253  \n",
       "dev_proxima           31.542798  \n",
       "demanda_uni_equil      0.000000  "
      ]
     },
     "execution_count": 21,
     "metadata": {},
     "output_type": "execute_result"
    }
   ],
   "source": [
    "describe = num_attributes.describe().compute().T\n",
    "\n",
    "describe['Relative Std'] = describe['std'] / describe['mean']\n",
    "describe['range'] = describe['max'] - describe['min']\n",
    "describe['IQR'] = describe['75%'] - describe['25%']\n",
    "describe = describe[['min', 'max', 'range', 'mean','std', '50%', 'IQR', '25%', '75%', 'Relative Std']]\n",
    "describe.columns = ['Min', 'Max', 'Range', 'Mean', 'Std', 'Median', 'IQR', '25%', '75%', 'Relative Std']\n",
    "describe"
   ]
  },
  {
   "cell_type": "markdown",
   "metadata": {},
   "source": [
    "## 1.2 Product"
   ]
  },
  {
   "cell_type": "code",
   "execution_count": 22,
   "metadata": {},
   "outputs": [],
   "source": [
    "df_producto_01 = data_producto_raw.copy()"
   ]
  },
  {
   "cell_type": "markdown",
   "metadata": {},
   "source": [
    "### 1.2.1 Columns"
   ]
  },
  {
   "cell_type": "code",
   "execution_count": 23,
   "metadata": {},
   "outputs": [
    {
     "data": {
      "text/plain": [
       "Index(['Producto_ID', 'NombreProducto'], dtype='object')"
      ]
     },
     "execution_count": 23,
     "metadata": {},
     "output_type": "execute_result"
    }
   ],
   "source": [
    "df_producto_01.columns"
   ]
  },
  {
   "cell_type": "markdown",
   "metadata": {},
   "source": [
    "### 1.2.2 Rename Columns"
   ]
  },
  {
   "cell_type": "code",
   "execution_count": 24,
   "metadata": {},
   "outputs": [
    {
     "data": {
      "text/plain": [
       "Index(['producto_id', 'nombre_producto'], dtype='object')"
      ]
     },
     "execution_count": 24,
     "metadata": {},
     "output_type": "execute_result"
    }
   ],
   "source": [
    "rename_columns(df_producto_01)"
   ]
  },
  {
   "cell_type": "markdown",
   "metadata": {},
   "source": [
    "### 1.2.3 Data Dimensions"
   ]
  },
  {
   "cell_type": "code",
   "execution_count": 25,
   "metadata": {},
   "outputs": [
    {
     "name": "stdout",
     "output_type": "stream",
     "text": [
      "Number of Rows: 2592\n",
      "Number of Columns: 2\n"
     ]
    }
   ],
   "source": [
    "print(f'Number of Rows: {df_producto_01.shape[0].compute()}')\n",
    "print(f'Number of Columns: {df_producto_01.shape[1]}')"
   ]
  },
  {
   "cell_type": "markdown",
   "metadata": {},
   "source": [
    "### 1.2.4 Data Types"
   ]
  },
  {
   "cell_type": "code",
   "execution_count": 26,
   "metadata": {},
   "outputs": [
    {
     "data": {
      "text/plain": [
       "producto_id        uint16\n",
       "nombre_producto    object\n",
       "dtype: object"
      ]
     },
     "execution_count": 26,
     "metadata": {},
     "output_type": "execute_result"
    }
   ],
   "source": [
    "df_producto_01.dtypes"
   ]
  },
  {
   "cell_type": "markdown",
   "metadata": {},
   "source": [
    "### 1.2.5 Missing Values"
   ]
  },
  {
   "cell_type": "code",
   "execution_count": 27,
   "metadata": {},
   "outputs": [
    {
     "data": {
      "text/plain": [
       "producto_id        0\n",
       "nombre_producto    0\n",
       "dtype: int64"
      ]
     },
     "execution_count": 27,
     "metadata": {},
     "output_type": "execute_result"
    }
   ],
   "source": [
    "df_producto_01.isnull().sum().compute()"
   ]
  },
  {
   "cell_type": "markdown",
   "metadata": {},
   "source": [
    "### 1.2.6 ~~Fillout NA~~"
   ]
  },
  {
   "cell_type": "markdown",
   "metadata": {},
   "source": [
    "There is no NA values"
   ]
  },
  {
   "cell_type": "markdown",
   "metadata": {},
   "source": [
    "## 1.3 Client"
   ]
  },
  {
   "cell_type": "code",
   "execution_count": 28,
   "metadata": {},
   "outputs": [],
   "source": [
    "df_client_01 = data_client_raw.copy()"
   ]
  },
  {
   "cell_type": "markdown",
   "metadata": {},
   "source": [
    "### 1.3.1 Columns"
   ]
  },
  {
   "cell_type": "code",
   "execution_count": 29,
   "metadata": {},
   "outputs": [
    {
     "data": {
      "text/plain": [
       "Index(['Cliente_ID', 'NombreCliente'], dtype='object')"
      ]
     },
     "execution_count": 29,
     "metadata": {},
     "output_type": "execute_result"
    }
   ],
   "source": [
    "df_client_01.columns"
   ]
  },
  {
   "cell_type": "markdown",
   "metadata": {},
   "source": [
    "### 1.3.2 Rename Columns"
   ]
  },
  {
   "cell_type": "code",
   "execution_count": 30,
   "metadata": {},
   "outputs": [
    {
     "data": {
      "text/plain": [
       "Index(['cliente_id', 'nombre_cliente'], dtype='object')"
      ]
     },
     "execution_count": 30,
     "metadata": {},
     "output_type": "execute_result"
    }
   ],
   "source": [
    "rename_columns(df_client_01)"
   ]
  },
  {
   "cell_type": "markdown",
   "metadata": {},
   "source": [
    "### 1.3.3 Data Dimensions"
   ]
  },
  {
   "cell_type": "code",
   "execution_count": 31,
   "metadata": {},
   "outputs": [
    {
     "name": "stdout",
     "output_type": "stream",
     "text": [
      "Number of Rows: 935362\n",
      "Number of Columns: 2\n"
     ]
    }
   ],
   "source": [
    "print(f'Number of Rows: {df_client_01.shape[0].compute()}')\n",
    "print(f'Number of Columns: {df_client_01.shape[1]}')"
   ]
  },
  {
   "cell_type": "markdown",
   "metadata": {},
   "source": [
    "### 1.3.4 Data Types"
   ]
  },
  {
   "cell_type": "code",
   "execution_count": 32,
   "metadata": {},
   "outputs": [
    {
     "data": {
      "text/plain": [
       "cliente_id        uint32\n",
       "nombre_cliente    object\n",
       "dtype: object"
      ]
     },
     "execution_count": 32,
     "metadata": {},
     "output_type": "execute_result"
    }
   ],
   "source": [
    "df_client_01.dtypes"
   ]
  },
  {
   "cell_type": "markdown",
   "metadata": {},
   "source": [
    "### 1.3.5 Missing Values"
   ]
  },
  {
   "cell_type": "code",
   "execution_count": 33,
   "metadata": {},
   "outputs": [
    {
     "data": {
      "text/plain": [
       "cliente_id        0\n",
       "nombre_cliente    0\n",
       "dtype: int64"
      ]
     },
     "execution_count": 33,
     "metadata": {},
     "output_type": "execute_result"
    }
   ],
   "source": [
    "df_client_01.isnull().sum().compute()"
   ]
  },
  {
   "cell_type": "markdown",
   "metadata": {},
   "source": [
    "### 1.3.6 ~~Fillout NA~~"
   ]
  },
  {
   "cell_type": "markdown",
   "metadata": {},
   "source": [
    "There is no NA values"
   ]
  },
  {
   "cell_type": "markdown",
   "metadata": {},
   "source": [
    "## 1.4 Town State"
   ]
  },
  {
   "cell_type": "code",
   "execution_count": 34,
   "metadata": {},
   "outputs": [],
   "source": [
    "df_town_state_01 = data_town_state_raw.copy()"
   ]
  },
  {
   "cell_type": "markdown",
   "metadata": {},
   "source": [
    "### 1.4.1 Columns"
   ]
  },
  {
   "cell_type": "code",
   "execution_count": 35,
   "metadata": {},
   "outputs": [
    {
     "data": {
      "text/plain": [
       "Index(['Agencia_ID', 'Town', 'State'], dtype='object')"
      ]
     },
     "execution_count": 35,
     "metadata": {},
     "output_type": "execute_result"
    }
   ],
   "source": [
    "df_town_state_01.columns"
   ]
  },
  {
   "cell_type": "markdown",
   "metadata": {},
   "source": [
    "### 1.4.2 Rename Columns"
   ]
  },
  {
   "cell_type": "code",
   "execution_count": 36,
   "metadata": {},
   "outputs": [
    {
     "data": {
      "text/plain": [
       "Index(['agencia_id', 'town', 'state'], dtype='object')"
      ]
     },
     "execution_count": 36,
     "metadata": {},
     "output_type": "execute_result"
    }
   ],
   "source": [
    "rename_columns(df_town_state_01)"
   ]
  },
  {
   "cell_type": "markdown",
   "metadata": {},
   "source": [
    "### 1.4.3 Data Dimensions"
   ]
  },
  {
   "cell_type": "code",
   "execution_count": 37,
   "metadata": {},
   "outputs": [
    {
     "name": "stdout",
     "output_type": "stream",
     "text": [
      "Number of Rows: 790\n",
      "Number of Columns: 3\n"
     ]
    }
   ],
   "source": [
    "print(f'Number of Rows: {df_town_state_01.shape[0].compute()}')\n",
    "print(f'Number of Columns: {df_town_state_01.shape[1]}')"
   ]
  },
  {
   "cell_type": "markdown",
   "metadata": {},
   "source": [
    "### 1.4.4 Data Types"
   ]
  },
  {
   "cell_type": "code",
   "execution_count": 38,
   "metadata": {},
   "outputs": [
    {
     "data": {
      "text/plain": [
       "agencia_id    uint16\n",
       "town          object\n",
       "state         object\n",
       "dtype: object"
      ]
     },
     "execution_count": 38,
     "metadata": {},
     "output_type": "execute_result"
    }
   ],
   "source": [
    "df_town_state_01.dtypes"
   ]
  },
  {
   "cell_type": "markdown",
   "metadata": {},
   "source": [
    "### 1.4.5 Missing Values"
   ]
  },
  {
   "cell_type": "code",
   "execution_count": 39,
   "metadata": {},
   "outputs": [
    {
     "data": {
      "text/plain": [
       "agencia_id    0\n",
       "town          0\n",
       "state         0\n",
       "dtype: int64"
      ]
     },
     "execution_count": 39,
     "metadata": {},
     "output_type": "execute_result"
    }
   ],
   "source": [
    "df_town_state_01.isnull().sum().compute()"
   ]
  },
  {
   "cell_type": "markdown",
   "metadata": {},
   "source": [
    "### 1.4.6 ~~Fillout NA~~"
   ]
  },
  {
   "cell_type": "markdown",
   "metadata": {},
   "source": [
    "There is no NA values"
   ]
  },
  {
   "cell_type": "markdown",
   "metadata": {},
   "source": [
    "# 2.0 FEATURE ENGINEERING"
   ]
  },
  {
   "cell_type": "code",
   "execution_count": 40,
   "metadata": {},
   "outputs": [],
   "source": [
    "df_train_02 = df_train_01.copy()\n",
    "df_producto_02 = df_producto_01.copy()\n",
    "df_client_02 = df_client_01.copy()\n",
    "df_town_state_02 = df_town_state_01.copy()"
   ]
  },
  {
   "cell_type": "markdown",
   "metadata": {},
   "source": [
    "## 2.1 Product"
   ]
  },
  {
   "cell_type": "code",
   "execution_count": 41,
   "metadata": {},
   "outputs": [],
   "source": [
    "df_producto_02 = df_producto_02.drop_duplicates(subset=['producto_id'])"
   ]
  },
  {
   "cell_type": "code",
   "execution_count": 42,
   "metadata": {},
   "outputs": [],
   "source": [
    "## Weigh\n",
    "#### Regex weight\n",
    "df_producto_02['weight'] = df_producto_02['nombre_producto'].str.extract(r'(\\d+)\\s?(kg|Kg|KG|g|G)')[0]\n",
    "#### Regex unit of measure: weight\n",
    "df_producto_02['weight_unit'] = df_producto_02['nombre_producto'].str.extract(r'(\\d+)\\s?(kg|Kg|KG|g|G)')[1]\n",
    "#### List of index that the weight need to be correct\n",
    "weight_kg_id = list(df_producto_02['producto_id'][(~df_producto_02['weight'].isnull()) & (df_producto_02['weight'].str.startswith('0'))].compute())\n",
    "#### Convert the weight to float\n",
    "df_producto_02['weight'] = df_producto_02['weight'].astype('float')\n",
    "#### DataFrame with all the records that don't need to be correct\n",
    "df_weight_01 = df_producto_02[~df_producto_02['producto_id'].isin(weight_kg_id)]\n",
    "#### DataFrame with all the records that need to be correct\n",
    "df_weight_02 = df_producto_02[df_producto_02['producto_id'].isin(weight_kg_id)]\n",
    "#### Weight correct\n",
    "df_weight_02['weight'] = df_weight_02['weight']/10\n",
    "#### Concatenate both dataframes into one\n",
    "df_producto_02 = dd.concat([df_weight_01, df_weight_02], axis=0)\n",
    "#### delete both dataframe that was used\n",
    "del df_weight_01, df_weight_02\n",
    "\n",
    "#### dict to mapping the unit of measure\n",
    "weight_mapping = {\n",
    "    'kg': 1000,\n",
    "    'Kg': 1000,\n",
    "    'KG': 1000,\n",
    "    'g': 1,\n",
    "    'G': 1\n",
    "}\n",
    "\n",
    "#### Adjust to the same scale (kg and g)\n",
    "df_producto_02['weight_g'] = df_producto_02['weight'] * df_producto_02['weight_unit'].map(weight_mapping)\n",
    "\n",
    "## Volume\n",
    "#### Regex volume\n",
    "df_producto_02['volume'] = df_producto_02['nombre_producto'].str.extract(r'(\\s?\\d+\\s?(l|L|ml|mL|ML)\\s)')[0]\n",
    "#### Getting only the number of volume\n",
    "volume = df_producto_02['volume'].str.extract(r'(\\d+)')\n",
    "#### Convert to float and rename\n",
    "volume = volume.astype('float').rename(columns={0:'volume_ml'})\n",
    "#### Concatenate both dataframes into one\n",
    "df_producto_02 = dd.concat([df_producto_02, volume], axis=1)\n",
    "#### delete dataframe that was used\n",
    "del volume\n",
    "\n",
    "## Pieces\n",
    "#### regex pieces (e.g.: 6p)\n",
    "df_producto_02['pieces_p'] =  df_producto_02['nombre_producto'].str.extract('(\\d+)p', expand=False).astype('float')\n",
    "df_producto_02['pieces_p'] = df_producto_02['pieces_p'].fillna(.0)\n",
    "#### regex pieces (e.g.: 6P)\n",
    "df_producto_02['pieces_P'] =  df_producto_02['nombre_producto'].str.extract('(\\d+)P', expand=False).astype('float')\n",
    "df_producto_02['pieces_P'] = df_producto_02['pieces_P'].fillna(.0)\n",
    "#### regex pieces (e.g.: 3X10)\n",
    "df_producto_02['pieces_X'] =  df_producto_02['nombre_producto'].str.extract('(\\d+)X', expand=False).astype('float')\n",
    "df_producto_02['pieces_X'] = df_producto_02['pieces_X'].fillna(.0)\n",
    "#### Sum the possibles pieces\n",
    "df_producto_02['pieces'] = df_producto_02['pieces_p'] + df_producto_02['pieces_P'] + df_producto_02['pieces_X']\n",
    "#### replace 0.0 to 1.0\n",
    "df_producto_02['pieces'] = df_producto_02['pieces'].map(lambda row: 1.0 if row == 0.0 else row)\n",
    "\n",
    "#### weight / pieces\n",
    "df_producto_02['weith_pieces'] = df_producto_02['weight_g'] / df_producto_02['pieces']\n",
    "df_producto_02['weith_pieces'] = df_producto_02['weith_pieces'].fillna(.0)\n",
    "#### volume / pieces\n",
    "df_producto_02['volume_pieces'] = df_producto_02['volume_ml'] / df_producto_02['pieces']\n",
    "df_producto_02['volume_pieces'] = df_producto_02['volume_pieces'].fillna(.0)\n",
    "#### weight or volume/ pieces\n",
    "df_producto_02['weight_volume_pieces'] = df_producto_02['weith_pieces'] + df_producto_02['volume_pieces']\n",
    "\n",
    "\n",
    "#### regex slices (e.g.: 28Reb)\n",
    "df_producto_02['slices'] =  df_producto_02['nombre_producto'].str.extract('(\\d+)Reb', expand=False).astype('float')\n",
    "\n",
    "#### regex Brands (e.g.: CU LON)\n",
    "brand = df_producto_02['nombre_producto'].str.extract('.\\w\\s(\\D+) \\d+$').rename(columns={0:'brand'})\n",
    "#### Concatenate both dataframes into one\n",
    "df_producto_02 = dd.concat([df_producto_02, brand], axis=1)\n",
    "#### Fill the Products that was not possible to determine the brand\n",
    "df_producto_02['brand'] = df_producto_02['brand'].fillna('NO_BRAND')\n",
    "#### delete dataframe that was used\n",
    "del brand\n",
    "\n",
    "## Product characteristics\n",
    "#### New column with the product name in lowercase format\n",
    "df_producto_02['nombre_producto_lower'] = df_producto_02['nombre_producto'].map(lambda row: row.lower())\n",
    "#### Chocolate\n",
    "df_producto_02['flavor_choc'] = df_producto_02['nombre_producto_lower'].str.contains('choc') * 1\n",
    "#### Vanilla or Cream\n",
    "df_producto_02['flavor_vainill'] = df_producto_02['nombre_producto_lower'].str.contains('vainill|crem') * 1\n",
    "#### cinnamon\n",
    "df_producto_02['flavor_canel'] = df_producto_02['nombre_producto_lower'].str.contains('canel') * 1\n",
    "#### Integral\n",
    "df_producto_02['flavor_integral'] = df_producto_02['nombre_producto_lower'].str.contains('integ|cereal|fibra') * 1\n",
    "#### Fruit\n",
    "df_producto_02['flavor_fruits'] = df_producto_02['nombre_producto_lower'].str.contains('frut') * 1\n",
    "#### Frozen storage\n",
    "df_producto_02['frozen_storage'] = df_producto_02['nombre_producto_lower'].str.contains('congelado') * 1\n",
    "#### Premium Product\n",
    "df_producto_02['premium_product'] = df_producto_02['nombre_producto_lower'].str.contains('premium') * 1\n",
    "\n",
    "#### DataFrame Columns Filtering\n",
    "df_producto_02 = df_producto_02[['producto_id', 'weight_g', 'volume_ml', 'pieces', 'weight_volume_pieces', 'slices', 'brand', 'flavor_choc',\n",
    "                                'flavor_vainill', 'flavor_canel', 'flavor_integral', 'flavor_fruits', 'frozen_storage', 'premium_product']]"
   ]
  },
  {
   "cell_type": "code",
   "execution_count": 43,
   "metadata": {},
   "outputs": [],
   "source": [
    "#df_producto_02['nombre_producto_lower'].sample(0.02).compute()"
   ]
  },
  {
   "cell_type": "markdown",
   "metadata": {},
   "source": [
    "## 2.2 Client"
   ]
  },
  {
   "cell_type": "code",
   "execution_count": 44,
   "metadata": {},
   "outputs": [],
   "source": [
    "df_client_02 = df_client_02.drop_duplicates(subset=['cliente_id'])"
   ]
  },
  {
   "cell_type": "code",
   "execution_count": 45,
   "metadata": {},
   "outputs": [],
   "source": [
    "df_client_02['nombre_cliente'] = df_client_02['nombre_cliente'].map(lambda row: row.lower())"
   ]
  },
  {
   "cell_type": "code",
   "execution_count": 46,
   "metadata": {},
   "outputs": [],
   "source": [
    "df_client_02['client_type'] = df_client_02['nombre_cliente']"
   ]
  },
  {
   "cell_type": "code",
   "execution_count": 47,
   "metadata": {},
   "outputs": [],
   "source": [
    "## Special Groups and large companys\n",
    "df_client_02['client_type'] = df_client_02['client_type'].str.replace('.*remision.*','Consignment')\n",
    "df_client_02['client_type'] = df_client_02['client_type'].str.replace('.*wal mart.*|.*sams club.*','Walmart', regex=True)\n",
    "df_client_02['client_type'] = df_client_02['client_type'].str.replace('.*oxxo.*','Oxxo')\n",
    "df_client_02['client_type'] = df_client_02['client_type'].str.replace('.*conasupo.*','Govt')\n",
    "df_client_02['client_type'] = df_client_02['client_type'].str.replace('.*bimbo.*','Bimbo')\n",
    "\n",
    "### School\n",
    "df_client_02['client_type'] = df_client_02['client_type'].str.replace('.*coleg.*|.*univ.*|.*escu.*|.*insti.*|.*prepar.*','SCHOOL', regex=True)\n",
    "### Gas \n",
    "df_client_02['client_type'] = df_client_02['client_type'].str.replace('.*puesto.*','POST')\n",
    "### Hospitals ans pharmacies\n",
    "df_client_02['client_type'] = df_client_02['client_type'].str.replace('.*farm.*|.*hospital.*|.*clini.*','HOSPITALS', regex=True)\n",
    "### Eatery\n",
    "df_client_02['client_type'] = df_client_02['client_type'].str.replace('.*cafe.*|.*cremaria.*|.*dulceria.*\\\n",
    "                                                            |.*rest.*|.*burg.*|.*taco.*|.*torta.*|.*taquer.*\\\n",
    "                                                            |.*hot dog.*|.*comedor.*|.*eria.*|.*snack.*','EATERY', regex=True)\n",
    "### Markets\n",
    "df_client_02['client_type'] = df_client_02['client_type'].str.replace('.*comercial.*|.*bodega.*|.*deposito.*\\\n",
    "                                                            |.*abarrotes.*|.*mercado.*|.*cambio.*|.*market.*|.*mart.*\\\n",
    "                                                            |.*plaza.*|.*misc.*|.*eleven.*|.*exp.*|.*papelaria.*\\\n",
    "                                                            |.*carniceria.*|.*local.*|.*comodin.*|.*providencia.*','MARKET', regex=True)\n",
    "### Fresh Markets\n",
    "df_client_02['client_type'] = df_client_02['client_type'].str.replace('.*verdu.*|.*frut.*','FRESH MARKET', regex=True)\n",
    "### Hotel\n",
    "df_client_02['client_type'] = df_client_02['client_type'].str.replace('.*hotel.*|.*motel.*','HOTEL', regex=True)\n",
    "### Small Franchise\n",
    "df_client_02['client_type'] = df_client_02['client_type'].str.replace('.*la .*|.*el .*|.*de .*|.*del .*|.*san.*\\\n",
    "                                                            |.*los .*|.*y .*|.*las .*|.*mi .*|.*ag .*|.*ma .*\\\n",
    "                                                            |.*ii .*|.*[0-9]+.*','SMALL FRANCHISE', regex=True)\n",
    "\n",
    "### No identificado\n",
    "### Hotel\n",
    "df_client_02['client_type'] = df_client_02['client_type'].str.replace('.*no identificado.*|.*sin nombre.*','Unidentified', regex=True)\n",
    "\n",
    "df_client_02['client_type'] = df_client_02['client_type'].map(lambda row: 'individual' if row.islower() else row)"
   ]
  },
  {
   "cell_type": "code",
   "execution_count": 48,
   "metadata": {},
   "outputs": [],
   "source": [
    "teste = df_client_02['client_type'].value_counts().compute()"
   ]
  },
  {
   "cell_type": "code",
   "execution_count": 49,
   "metadata": {},
   "outputs": [
    {
     "data": {
      "text/plain": [
       "individual         377324\n",
       "Unidentified       282032\n",
       "SMALL FRANCHISE    149852\n",
       "MARKET              63440\n",
       "EATERY              30950\n",
       "Oxxo                 9276\n",
       "HOSPITALS            5723\n",
       "SCHOOL               5562\n",
       "POST                 2658\n",
       "HOTEL                1107\n",
       "FRESH MARKET         1068\n",
       "Govt                  958\n",
       "Bimbo                 319\n",
       "Walmart               217\n",
       "Consignment            14\n",
       "Name: client_type, dtype: int64"
      ]
     },
     "execution_count": 49,
     "metadata": {},
     "output_type": "execute_result"
    }
   ],
   "source": [
    "teste.head(50)"
   ]
  },
  {
   "cell_type": "markdown",
   "metadata": {},
   "source": [
    "## 2.3 Town State"
   ]
  },
  {
   "cell_type": "code",
   "execution_count": 52,
   "metadata": {},
   "outputs": [],
   "source": [
    "df_town_state_02 = df_town_state_02.drop_duplicates(subset=['agencia_id'])"
   ]
  },
  {
   "cell_type": "code",
   "execution_count": 54,
   "metadata": {},
   "outputs": [
    {
     "data": {
      "text/html": [
       "<div>\n",
       "<style scoped>\n",
       "    .dataframe tbody tr th:only-of-type {\n",
       "        vertical-align: middle;\n",
       "    }\n",
       "\n",
       "    .dataframe tbody tr th {\n",
       "        vertical-align: top;\n",
       "    }\n",
       "\n",
       "    .dataframe thead th {\n",
       "        text-align: right;\n",
       "    }\n",
       "</style>\n",
       "<table border=\"1\" class=\"dataframe\">\n",
       "  <thead>\n",
       "    <tr style=\"text-align: right;\">\n",
       "      <th></th>\n",
       "      <th>agencia_id</th>\n",
       "      <th>town</th>\n",
       "      <th>state</th>\n",
       "    </tr>\n",
       "  </thead>\n",
       "  <tbody>\n",
       "    <tr>\n",
       "      <th>0</th>\n",
       "      <td>1110</td>\n",
       "      <td>2008 AG. LAGO FILT</td>\n",
       "      <td>MÉXICO, D.F.</td>\n",
       "    </tr>\n",
       "    <tr>\n",
       "      <th>1</th>\n",
       "      <td>1111</td>\n",
       "      <td>2002 AG. AZCAPOTZALCO</td>\n",
       "      <td>MÉXICO, D.F.</td>\n",
       "    </tr>\n",
       "    <tr>\n",
       "      <th>2</th>\n",
       "      <td>1112</td>\n",
       "      <td>2004 AG. CUAUTITLAN</td>\n",
       "      <td>ESTADO DE MÉXICO</td>\n",
       "    </tr>\n",
       "    <tr>\n",
       "      <th>3</th>\n",
       "      <td>1113</td>\n",
       "      <td>2008 AG. LAGO FILT</td>\n",
       "      <td>MÉXICO, D.F.</td>\n",
       "    </tr>\n",
       "    <tr>\n",
       "      <th>4</th>\n",
       "      <td>1114</td>\n",
       "      <td>2029 AG.IZTAPALAPA 2</td>\n",
       "      <td>MÉXICO, D.F.</td>\n",
       "    </tr>\n",
       "  </tbody>\n",
       "</table>\n",
       "</div>"
      ],
      "text/plain": [
       "   agencia_id                   town             state\n",
       "0        1110     2008 AG. LAGO FILT      MÉXICO, D.F.\n",
       "1        1111  2002 AG. AZCAPOTZALCO      MÉXICO, D.F.\n",
       "2        1112    2004 AG. CUAUTITLAN  ESTADO DE MÉXICO\n",
       "3        1113     2008 AG. LAGO FILT      MÉXICO, D.F.\n",
       "4        1114   2029 AG.IZTAPALAPA 2      MÉXICO, D.F."
      ]
     },
     "execution_count": 54,
     "metadata": {},
     "output_type": "execute_result"
    }
   ],
   "source": [
    "df_town_state_02.head()"
   ]
  },
  {
   "cell_type": "code",
   "execution_count": 73,
   "metadata": {},
   "outputs": [],
   "source": [
    "teste = df_town_state_02['town'].value_counts()"
   ]
  },
  {
   "cell_type": "code",
   "execution_count": 74,
   "metadata": {},
   "outputs": [
    {
     "data": {
      "text/plain": [
       "2013 AG. MEGA NAUCALPAN    8\n",
       "2355 JALAPA I              7\n",
       "2011 AG. SAN ANTONIO       7\n",
       "2161 IRAPUATO GUADALUPE    6\n",
       "2396 RUIZ CORTINEZ         6\n",
       "                          ..\n",
       "2389 EMILIANO ZAPATA       1\n",
       "2404 VALLADOLID            1\n",
       "2055 Pinotepa              1\n",
       "2410 CANCUN II             1\n",
       "3216 NUEVO LAREDO          1\n",
       "Name: town, Length: 260, dtype: int64"
      ]
     },
     "execution_count": 74,
     "metadata": {},
     "output_type": "execute_result"
    }
   ],
   "source": [
    "teste.compute()"
   ]
  },
  {
   "cell_type": "code",
   "execution_count": 62,
   "metadata": {},
   "outputs": [
    {
     "data": {
      "text/html": [
       "<div>\n",
       "<style scoped>\n",
       "    .dataframe tbody tr th:only-of-type {\n",
       "        vertical-align: middle;\n",
       "    }\n",
       "\n",
       "    .dataframe tbody tr th {\n",
       "        vertical-align: top;\n",
       "    }\n",
       "\n",
       "    .dataframe thead th {\n",
       "        text-align: right;\n",
       "    }\n",
       "</style>\n",
       "<table border=\"1\" class=\"dataframe\">\n",
       "  <thead>\n",
       "    <tr style=\"text-align: right;\">\n",
       "      <th></th>\n",
       "      <th>agencia_id</th>\n",
       "      <th>town</th>\n",
       "      <th>state</th>\n",
       "    </tr>\n",
       "  </thead>\n",
       "  <tbody>\n",
       "    <tr>\n",
       "      <th>8</th>\n",
       "      <td>1119</td>\n",
       "      <td>2013 AG. MEGA NAUCALPAN</td>\n",
       "      <td>ESTADO DE MÉXICO</td>\n",
       "    </tr>\n",
       "    <tr>\n",
       "      <th>20</th>\n",
       "      <td>1139</td>\n",
       "      <td>2013 AG. MEGA NAUCALPAN</td>\n",
       "      <td>ESTADO DE MÉXICO</td>\n",
       "    </tr>\n",
       "    <tr>\n",
       "      <th>22</th>\n",
       "      <td>1142</td>\n",
       "      <td>2013 AG. MEGA NAUCALPAN</td>\n",
       "      <td>ESTADO DE MÉXICO</td>\n",
       "    </tr>\n",
       "    <tr>\n",
       "      <th>55</th>\n",
       "      <td>1221</td>\n",
       "      <td>2013 AG. MEGA NAUCALPAN</td>\n",
       "      <td>ESTADO DE MÉXICO</td>\n",
       "    </tr>\n",
       "    <tr>\n",
       "      <th>60</th>\n",
       "      <td>1228</td>\n",
       "      <td>2013 AG. MEGA NAUCALPAN</td>\n",
       "      <td>ESTADO DE MÉXICO</td>\n",
       "    </tr>\n",
       "    <tr>\n",
       "      <th>508</th>\n",
       "      <td>3221</td>\n",
       "      <td>2013 AG. MEGA NAUCALPAN</td>\n",
       "      <td>ESTADO DE MÉXICO</td>\n",
       "    </tr>\n",
       "    <tr>\n",
       "      <th>547</th>\n",
       "      <td>20139</td>\n",
       "      <td>2013 AG. MEGA NAUCALPAN</td>\n",
       "      <td>ESTADO DE MÉXICO</td>\n",
       "    </tr>\n",
       "    <tr>\n",
       "      <th>618</th>\n",
       "      <td>22013</td>\n",
       "      <td>2013 AG. MEGA NAUCALPAN</td>\n",
       "      <td>ESTADO DE MÉXICO</td>\n",
       "    </tr>\n",
       "  </tbody>\n",
       "</table>\n",
       "</div>"
      ],
      "text/plain": [
       "     agencia_id                     town             state\n",
       "8          1119  2013 AG. MEGA NAUCALPAN  ESTADO DE MÉXICO\n",
       "20         1139  2013 AG. MEGA NAUCALPAN  ESTADO DE MÉXICO\n",
       "22         1142  2013 AG. MEGA NAUCALPAN  ESTADO DE MÉXICO\n",
       "55         1221  2013 AG. MEGA NAUCALPAN  ESTADO DE MÉXICO\n",
       "60         1228  2013 AG. MEGA NAUCALPAN  ESTADO DE MÉXICO\n",
       "508        3221  2013 AG. MEGA NAUCALPAN  ESTADO DE MÉXICO\n",
       "547       20139  2013 AG. MEGA NAUCALPAN  ESTADO DE MÉXICO\n",
       "618       22013  2013 AG. MEGA NAUCALPAN  ESTADO DE MÉXICO"
      ]
     },
     "execution_count": 62,
     "metadata": {},
     "output_type": "execute_result"
    }
   ],
   "source": [
    "df_town_state_02[df_town_state_02['town'].str.contains('AG. MEGA')].compute()"
   ]
  }
 ],
 "metadata": {
  "kernelspec": {
   "display_name": "Python 3",
   "language": "python",
   "name": "python3"
  },
  "language_info": {
   "codemirror_mode": {
    "name": "ipython",
    "version": 3
   },
   "file_extension": ".py",
   "mimetype": "text/x-python",
   "name": "python",
   "nbconvert_exporter": "python",
   "pygments_lexer": "ipython3",
   "version": "3.8.3"
  }
 },
 "nbformat": 4,
 "nbformat_minor": 4
}
